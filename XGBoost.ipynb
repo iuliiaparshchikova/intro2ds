{
 "cells": [
  {
   "cell_type": "code",
   "execution_count": 74,
   "id": "9f5b822c",
   "metadata": {},
   "outputs": [],
   "source": [
    "import pandas as pd\n",
    "import numpy as np\n",
    "import matplotlib.pyplot as plt\n",
    "\n",
    "from xgboost import XGBClassifier\n",
    "\n",
    "from sklearn.model_selection import GridSearchCV\n",
    "from sklearn.model_selection import KFold\n",
    "\n",
    "from sklearn.multioutput import MultiOutputClassifier\n",
    "from sklearn.metrics import f1_score, accuracy_score\n",
    "from sklearn.metrics import roc_curve, auc\n",
    "from sklearn.multioutput import MultiOutputClassifier\n",
    "from sklearn.model_selection import StratifiedKFold\n"
   ]
  },
  {
   "cell_type": "code",
   "execution_count": 27,
   "id": "8b2e9a01",
   "metadata": {},
   "outputs": [
    {
     "data": {
      "application/vnd.microsoft.datawrangler.viewer.v0+json": {
       "columns": [
        {
         "name": "index",
         "rawType": "int64",
         "type": "integer"
        },
        {
         "name": "respondent_id",
         "rawType": "int64",
         "type": "integer"
        },
        {
         "name": "h1n1_vaccine",
         "rawType": "int64",
         "type": "integer"
        },
        {
         "name": "seasonal_vaccine",
         "rawType": "int64",
         "type": "integer"
        }
       ],
       "ref": "5237353e-9b0d-4dac-9ba0-f9fe5a825ee7",
       "rows": [
        [
         "0",
         "0",
         "0",
         "0"
        ],
        [
         "1",
         "1",
         "0",
         "1"
        ],
        [
         "2",
         "2",
         "0",
         "0"
        ],
        [
         "3",
         "3",
         "0",
         "1"
        ],
        [
         "4",
         "4",
         "0",
         "0"
        ],
        [
         "5",
         "5",
         "0",
         "0"
        ],
        [
         "6",
         "6",
         "0",
         "0"
        ],
        [
         "7",
         "7",
         "1",
         "1"
        ],
        [
         "8",
         "8",
         "0",
         "0"
        ],
        [
         "9",
         "9",
         "0",
         "0"
        ],
        [
         "10",
         "10",
         "1",
         "1"
        ],
        [
         "11",
         "11",
         "1",
         "1"
        ],
        [
         "12",
         "12",
         "0",
         "1"
        ],
        [
         "13",
         "13",
         "0",
         "0"
        ],
        [
         "14",
         "14",
         "0",
         "0"
        ],
        [
         "15",
         "15",
         "0",
         "0"
        ],
        [
         "16",
         "16",
         "1",
         "1"
        ],
        [
         "17",
         "17",
         "0",
         "0"
        ],
        [
         "18",
         "18",
         "0",
         "0"
        ],
        [
         "19",
         "19",
         "0",
         "0"
        ],
        [
         "20",
         "20",
         "0",
         "0"
        ],
        [
         "21",
         "21",
         "0",
         "1"
        ],
        [
         "22",
         "22",
         "0",
         "0"
        ],
        [
         "23",
         "23",
         "0",
         "0"
        ],
        [
         "24",
         "24",
         "0",
         "0"
        ],
        [
         "25",
         "25",
         "0",
         "0"
        ],
        [
         "26",
         "26",
         "1",
         "1"
        ],
        [
         "27",
         "27",
         "0",
         "0"
        ],
        [
         "28",
         "28",
         "0",
         "0"
        ],
        [
         "29",
         "29",
         "0",
         "0"
        ],
        [
         "30",
         "30",
         "0",
         "0"
        ],
        [
         "31",
         "31",
         "1",
         "0"
        ],
        [
         "32",
         "32",
         "0",
         "1"
        ],
        [
         "33",
         "33",
         "1",
         "0"
        ],
        [
         "34",
         "34",
         "1",
         "1"
        ],
        [
         "35",
         "35",
         "1",
         "1"
        ],
        [
         "36",
         "36",
         "0",
         "1"
        ],
        [
         "37",
         "37",
         "0",
         "0"
        ],
        [
         "38",
         "38",
         "1",
         "1"
        ],
        [
         "39",
         "39",
         "0",
         "1"
        ],
        [
         "40",
         "40",
         "0",
         "0"
        ],
        [
         "41",
         "41",
         "1",
         "1"
        ],
        [
         "42",
         "42",
         "0",
         "0"
        ],
        [
         "43",
         "43",
         "1",
         "1"
        ],
        [
         "44",
         "44",
         "0",
         "0"
        ],
        [
         "45",
         "45",
         "0",
         "0"
        ],
        [
         "46",
         "46",
         "1",
         "1"
        ],
        [
         "47",
         "47",
         "1",
         "0"
        ],
        [
         "48",
         "48",
         "1",
         "1"
        ],
        [
         "49",
         "49",
         "1",
         "1"
        ]
       ],
       "shape": {
        "columns": 3,
        "rows": 26707
       }
      },
      "text/html": [
       "<div>\n",
       "<style scoped>\n",
       "    .dataframe tbody tr th:only-of-type {\n",
       "        vertical-align: middle;\n",
       "    }\n",
       "\n",
       "    .dataframe tbody tr th {\n",
       "        vertical-align: top;\n",
       "    }\n",
       "\n",
       "    .dataframe thead th {\n",
       "        text-align: right;\n",
       "    }\n",
       "</style>\n",
       "<table border=\"1\" class=\"dataframe\">\n",
       "  <thead>\n",
       "    <tr style=\"text-align: right;\">\n",
       "      <th></th>\n",
       "      <th>respondent_id</th>\n",
       "      <th>h1n1_vaccine</th>\n",
       "      <th>seasonal_vaccine</th>\n",
       "    </tr>\n",
       "  </thead>\n",
       "  <tbody>\n",
       "    <tr>\n",
       "      <th>0</th>\n",
       "      <td>0</td>\n",
       "      <td>0</td>\n",
       "      <td>0</td>\n",
       "    </tr>\n",
       "    <tr>\n",
       "      <th>1</th>\n",
       "      <td>1</td>\n",
       "      <td>0</td>\n",
       "      <td>1</td>\n",
       "    </tr>\n",
       "    <tr>\n",
       "      <th>2</th>\n",
       "      <td>2</td>\n",
       "      <td>0</td>\n",
       "      <td>0</td>\n",
       "    </tr>\n",
       "    <tr>\n",
       "      <th>3</th>\n",
       "      <td>3</td>\n",
       "      <td>0</td>\n",
       "      <td>1</td>\n",
       "    </tr>\n",
       "    <tr>\n",
       "      <th>4</th>\n",
       "      <td>4</td>\n",
       "      <td>0</td>\n",
       "      <td>0</td>\n",
       "    </tr>\n",
       "    <tr>\n",
       "      <th>...</th>\n",
       "      <td>...</td>\n",
       "      <td>...</td>\n",
       "      <td>...</td>\n",
       "    </tr>\n",
       "    <tr>\n",
       "      <th>26702</th>\n",
       "      <td>26702</td>\n",
       "      <td>0</td>\n",
       "      <td>0</td>\n",
       "    </tr>\n",
       "    <tr>\n",
       "      <th>26703</th>\n",
       "      <td>26703</td>\n",
       "      <td>0</td>\n",
       "      <td>0</td>\n",
       "    </tr>\n",
       "    <tr>\n",
       "      <th>26704</th>\n",
       "      <td>26704</td>\n",
       "      <td>0</td>\n",
       "      <td>1</td>\n",
       "    </tr>\n",
       "    <tr>\n",
       "      <th>26705</th>\n",
       "      <td>26705</td>\n",
       "      <td>0</td>\n",
       "      <td>0</td>\n",
       "    </tr>\n",
       "    <tr>\n",
       "      <th>26706</th>\n",
       "      <td>26706</td>\n",
       "      <td>0</td>\n",
       "      <td>0</td>\n",
       "    </tr>\n",
       "  </tbody>\n",
       "</table>\n",
       "<p>26707 rows × 3 columns</p>\n",
       "</div>"
      ],
      "text/plain": [
       "       respondent_id  h1n1_vaccine  seasonal_vaccine\n",
       "0                  0             0                 0\n",
       "1                  1             0                 1\n",
       "2                  2             0                 0\n",
       "3                  3             0                 1\n",
       "4                  4             0                 0\n",
       "...              ...           ...               ...\n",
       "26702          26702             0                 0\n",
       "26703          26703             0                 0\n",
       "26704          26704             0                 1\n",
       "26705          26705             0                 0\n",
       "26706          26706             0                 0\n",
       "\n",
       "[26707 rows x 3 columns]"
      ]
     },
     "execution_count": 27,
     "metadata": {},
     "output_type": "execute_result"
    }
   ],
   "source": [
    "df1 = pd.read_csv('training_set_features.csv')\n",
    "df2 = pd.read_csv('training_set_labels.csv')\n",
    "\n",
    "df2\n"
   ]
  },
  {
   "cell_type": "code",
   "execution_count": 28,
   "id": "73e14c6c",
   "metadata": {},
   "outputs": [
    {
     "data": {
      "application/vnd.microsoft.datawrangler.viewer.v0+json": {
       "columns": [
        {
         "name": "index",
         "rawType": "int64",
         "type": "integer"
        },
        {
         "name": "respondent_id",
         "rawType": "int64",
         "type": "integer"
        },
        {
         "name": "h1n1_concern",
         "rawType": "float64",
         "type": "float"
        },
        {
         "name": "h1n1_knowledge",
         "rawType": "float64",
         "type": "float"
        },
        {
         "name": "behavioral_antiviral_meds",
         "rawType": "float64",
         "type": "float"
        },
        {
         "name": "behavioral_avoidance",
         "rawType": "float64",
         "type": "float"
        },
        {
         "name": "behavioral_face_mask",
         "rawType": "float64",
         "type": "float"
        },
        {
         "name": "behavioral_wash_hands",
         "rawType": "float64",
         "type": "float"
        },
        {
         "name": "behavioral_large_gatherings",
         "rawType": "float64",
         "type": "float"
        },
        {
         "name": "behavioral_outside_home",
         "rawType": "float64",
         "type": "float"
        },
        {
         "name": "behavioral_touch_face",
         "rawType": "float64",
         "type": "float"
        },
        {
         "name": "doctor_recc_h1n1",
         "rawType": "float64",
         "type": "float"
        },
        {
         "name": "doctor_recc_seasonal",
         "rawType": "float64",
         "type": "float"
        },
        {
         "name": "chronic_med_condition",
         "rawType": "float64",
         "type": "float"
        },
        {
         "name": "child_under_6_months",
         "rawType": "float64",
         "type": "float"
        },
        {
         "name": "health_worker",
         "rawType": "float64",
         "type": "float"
        },
        {
         "name": "health_insurance",
         "rawType": "float64",
         "type": "float"
        },
        {
         "name": "opinion_h1n1_vacc_effective",
         "rawType": "float64",
         "type": "float"
        },
        {
         "name": "opinion_h1n1_risk",
         "rawType": "float64",
         "type": "float"
        },
        {
         "name": "opinion_h1n1_sick_from_vacc",
         "rawType": "float64",
         "type": "float"
        },
        {
         "name": "opinion_seas_vacc_effective",
         "rawType": "float64",
         "type": "float"
        },
        {
         "name": "opinion_seas_risk",
         "rawType": "float64",
         "type": "float"
        },
        {
         "name": "opinion_seas_sick_from_vacc",
         "rawType": "float64",
         "type": "float"
        },
        {
         "name": "age_group",
         "rawType": "object",
         "type": "string"
        },
        {
         "name": "education",
         "rawType": "object",
         "type": "string"
        },
        {
         "name": "race",
         "rawType": "object",
         "type": "string"
        },
        {
         "name": "sex",
         "rawType": "object",
         "type": "string"
        },
        {
         "name": "income_poverty",
         "rawType": "object",
         "type": "string"
        },
        {
         "name": "marital_status",
         "rawType": "object",
         "type": "string"
        },
        {
         "name": "rent_or_own",
         "rawType": "object",
         "type": "string"
        },
        {
         "name": "employment_status",
         "rawType": "object",
         "type": "string"
        },
        {
         "name": "hhs_geo_region",
         "rawType": "object",
         "type": "string"
        },
        {
         "name": "census_msa",
         "rawType": "object",
         "type": "string"
        },
        {
         "name": "household_adults",
         "rawType": "float64",
         "type": "float"
        },
        {
         "name": "household_children",
         "rawType": "float64",
         "type": "float"
        },
        {
         "name": "employment_industry",
         "rawType": "object",
         "type": "unknown"
        },
        {
         "name": "employment_occupation",
         "rawType": "object",
         "type": "unknown"
        },
        {
         "name": "h1n1_vaccine",
         "rawType": "int64",
         "type": "integer"
        },
        {
         "name": "seasonal_vaccine",
         "rawType": "int64",
         "type": "integer"
        }
       ],
       "ref": "24c3900d-bda6-4185-b6d0-b05925347726",
       "rows": [
        [
         "0",
         "0",
         "1.0",
         "0.0",
         "0.0",
         "0.0",
         "0.0",
         "0.0",
         "0.0",
         "1.0",
         "1.0",
         "0.0",
         "0.0",
         "0.0",
         "0.0",
         "0.0",
         "1.0",
         "3.0",
         "1.0",
         "2.0",
         "2.0",
         "1.0",
         "2.0",
         "55 - 64 Years",
         "< 12 Years",
         "White",
         "Female",
         "Below Poverty",
         "Not Married",
         "Own",
         "Not in Labor Force",
         "oxchjgsf",
         "Non-MSA",
         "0.0",
         "0.0",
         null,
         null,
         "0",
         "0"
        ],
        [
         "1",
         "1",
         "3.0",
         "2.0",
         "0.0",
         "1.0",
         "0.0",
         "1.0",
         "0.0",
         "1.0",
         "1.0",
         "0.0",
         "0.0",
         "0.0",
         "0.0",
         "0.0",
         "1.0",
         "5.0",
         "4.0",
         "4.0",
         "4.0",
         "2.0",
         "4.0",
         "35 - 44 Years",
         "12 Years",
         "White",
         "Male",
         "Below Poverty",
         "Not Married",
         "Rent",
         "Employed",
         "bhuqouqj",
         "MSA, Not Principle  City",
         "0.0",
         "0.0",
         "pxcmvdjn",
         "xgwztkwe",
         "0",
         "1"
        ],
        [
         "2",
         "2",
         "1.0",
         "1.0",
         "0.0",
         "1.0",
         "0.0",
         "0.0",
         "0.0",
         "0.0",
         "0.0",
         null,
         null,
         "1.0",
         "0.0",
         "0.0",
         null,
         "3.0",
         "1.0",
         "1.0",
         "4.0",
         "1.0",
         "2.0",
         "18 - 34 Years",
         "College Graduate",
         "White",
         "Male",
         "<= $75,000, Above Poverty",
         "Not Married",
         "Own",
         "Employed",
         "qufhixun",
         "MSA, Not Principle  City",
         "2.0",
         "0.0",
         "rucpziij",
         "xtkaffoo",
         "0",
         "0"
        ],
        [
         "3",
         "3",
         "1.0",
         "1.0",
         "0.0",
         "1.0",
         "0.0",
         "1.0",
         "1.0",
         "0.0",
         "0.0",
         "0.0",
         "1.0",
         "1.0",
         "0.0",
         "0.0",
         null,
         "3.0",
         "3.0",
         "5.0",
         "5.0",
         "4.0",
         "1.0",
         "65+ Years",
         "12 Years",
         "White",
         "Female",
         "Below Poverty",
         "Not Married",
         "Rent",
         "Not in Labor Force",
         "lrircsnp",
         "MSA, Principle City",
         "0.0",
         "0.0",
         null,
         null,
         "0",
         "1"
        ],
        [
         "4",
         "4",
         "2.0",
         "1.0",
         "0.0",
         "1.0",
         "0.0",
         "1.0",
         "1.0",
         "0.0",
         "1.0",
         "0.0",
         "0.0",
         "0.0",
         "0.0",
         "0.0",
         null,
         "3.0",
         "3.0",
         "2.0",
         "3.0",
         "1.0",
         "4.0",
         "45 - 54 Years",
         "Some College",
         "White",
         "Female",
         "<= $75,000, Above Poverty",
         "Married",
         "Own",
         "Employed",
         "qufhixun",
         "MSA, Not Principle  City",
         "1.0",
         "0.0",
         "wxleyezf",
         "emcorrxb",
         "0",
         "0"
        ]
       ],
       "shape": {
        "columns": 38,
        "rows": 5
       }
      },
      "text/html": [
       "<div>\n",
       "<style scoped>\n",
       "    .dataframe tbody tr th:only-of-type {\n",
       "        vertical-align: middle;\n",
       "    }\n",
       "\n",
       "    .dataframe tbody tr th {\n",
       "        vertical-align: top;\n",
       "    }\n",
       "\n",
       "    .dataframe thead th {\n",
       "        text-align: right;\n",
       "    }\n",
       "</style>\n",
       "<table border=\"1\" class=\"dataframe\">\n",
       "  <thead>\n",
       "    <tr style=\"text-align: right;\">\n",
       "      <th></th>\n",
       "      <th>respondent_id</th>\n",
       "      <th>h1n1_concern</th>\n",
       "      <th>h1n1_knowledge</th>\n",
       "      <th>behavioral_antiviral_meds</th>\n",
       "      <th>behavioral_avoidance</th>\n",
       "      <th>behavioral_face_mask</th>\n",
       "      <th>behavioral_wash_hands</th>\n",
       "      <th>behavioral_large_gatherings</th>\n",
       "      <th>behavioral_outside_home</th>\n",
       "      <th>behavioral_touch_face</th>\n",
       "      <th>...</th>\n",
       "      <th>rent_or_own</th>\n",
       "      <th>employment_status</th>\n",
       "      <th>hhs_geo_region</th>\n",
       "      <th>census_msa</th>\n",
       "      <th>household_adults</th>\n",
       "      <th>household_children</th>\n",
       "      <th>employment_industry</th>\n",
       "      <th>employment_occupation</th>\n",
       "      <th>h1n1_vaccine</th>\n",
       "      <th>seasonal_vaccine</th>\n",
       "    </tr>\n",
       "  </thead>\n",
       "  <tbody>\n",
       "    <tr>\n",
       "      <th>0</th>\n",
       "      <td>0</td>\n",
       "      <td>1.0</td>\n",
       "      <td>0.0</td>\n",
       "      <td>0.0</td>\n",
       "      <td>0.0</td>\n",
       "      <td>0.0</td>\n",
       "      <td>0.0</td>\n",
       "      <td>0.0</td>\n",
       "      <td>1.0</td>\n",
       "      <td>1.0</td>\n",
       "      <td>...</td>\n",
       "      <td>Own</td>\n",
       "      <td>Not in Labor Force</td>\n",
       "      <td>oxchjgsf</td>\n",
       "      <td>Non-MSA</td>\n",
       "      <td>0.0</td>\n",
       "      <td>0.0</td>\n",
       "      <td>NaN</td>\n",
       "      <td>NaN</td>\n",
       "      <td>0</td>\n",
       "      <td>0</td>\n",
       "    </tr>\n",
       "    <tr>\n",
       "      <th>1</th>\n",
       "      <td>1</td>\n",
       "      <td>3.0</td>\n",
       "      <td>2.0</td>\n",
       "      <td>0.0</td>\n",
       "      <td>1.0</td>\n",
       "      <td>0.0</td>\n",
       "      <td>1.0</td>\n",
       "      <td>0.0</td>\n",
       "      <td>1.0</td>\n",
       "      <td>1.0</td>\n",
       "      <td>...</td>\n",
       "      <td>Rent</td>\n",
       "      <td>Employed</td>\n",
       "      <td>bhuqouqj</td>\n",
       "      <td>MSA, Not Principle  City</td>\n",
       "      <td>0.0</td>\n",
       "      <td>0.0</td>\n",
       "      <td>pxcmvdjn</td>\n",
       "      <td>xgwztkwe</td>\n",
       "      <td>0</td>\n",
       "      <td>1</td>\n",
       "    </tr>\n",
       "    <tr>\n",
       "      <th>2</th>\n",
       "      <td>2</td>\n",
       "      <td>1.0</td>\n",
       "      <td>1.0</td>\n",
       "      <td>0.0</td>\n",
       "      <td>1.0</td>\n",
       "      <td>0.0</td>\n",
       "      <td>0.0</td>\n",
       "      <td>0.0</td>\n",
       "      <td>0.0</td>\n",
       "      <td>0.0</td>\n",
       "      <td>...</td>\n",
       "      <td>Own</td>\n",
       "      <td>Employed</td>\n",
       "      <td>qufhixun</td>\n",
       "      <td>MSA, Not Principle  City</td>\n",
       "      <td>2.0</td>\n",
       "      <td>0.0</td>\n",
       "      <td>rucpziij</td>\n",
       "      <td>xtkaffoo</td>\n",
       "      <td>0</td>\n",
       "      <td>0</td>\n",
       "    </tr>\n",
       "    <tr>\n",
       "      <th>3</th>\n",
       "      <td>3</td>\n",
       "      <td>1.0</td>\n",
       "      <td>1.0</td>\n",
       "      <td>0.0</td>\n",
       "      <td>1.0</td>\n",
       "      <td>0.0</td>\n",
       "      <td>1.0</td>\n",
       "      <td>1.0</td>\n",
       "      <td>0.0</td>\n",
       "      <td>0.0</td>\n",
       "      <td>...</td>\n",
       "      <td>Rent</td>\n",
       "      <td>Not in Labor Force</td>\n",
       "      <td>lrircsnp</td>\n",
       "      <td>MSA, Principle City</td>\n",
       "      <td>0.0</td>\n",
       "      <td>0.0</td>\n",
       "      <td>NaN</td>\n",
       "      <td>NaN</td>\n",
       "      <td>0</td>\n",
       "      <td>1</td>\n",
       "    </tr>\n",
       "    <tr>\n",
       "      <th>4</th>\n",
       "      <td>4</td>\n",
       "      <td>2.0</td>\n",
       "      <td>1.0</td>\n",
       "      <td>0.0</td>\n",
       "      <td>1.0</td>\n",
       "      <td>0.0</td>\n",
       "      <td>1.0</td>\n",
       "      <td>1.0</td>\n",
       "      <td>0.0</td>\n",
       "      <td>1.0</td>\n",
       "      <td>...</td>\n",
       "      <td>Own</td>\n",
       "      <td>Employed</td>\n",
       "      <td>qufhixun</td>\n",
       "      <td>MSA, Not Principle  City</td>\n",
       "      <td>1.0</td>\n",
       "      <td>0.0</td>\n",
       "      <td>wxleyezf</td>\n",
       "      <td>emcorrxb</td>\n",
       "      <td>0</td>\n",
       "      <td>0</td>\n",
       "    </tr>\n",
       "  </tbody>\n",
       "</table>\n",
       "<p>5 rows × 38 columns</p>\n",
       "</div>"
      ],
      "text/plain": [
       "   respondent_id  h1n1_concern  h1n1_knowledge  behavioral_antiviral_meds  \\\n",
       "0              0           1.0             0.0                        0.0   \n",
       "1              1           3.0             2.0                        0.0   \n",
       "2              2           1.0             1.0                        0.0   \n",
       "3              3           1.0             1.0                        0.0   \n",
       "4              4           2.0             1.0                        0.0   \n",
       "\n",
       "   behavioral_avoidance  behavioral_face_mask  behavioral_wash_hands  \\\n",
       "0                   0.0                   0.0                    0.0   \n",
       "1                   1.0                   0.0                    1.0   \n",
       "2                   1.0                   0.0                    0.0   \n",
       "3                   1.0                   0.0                    1.0   \n",
       "4                   1.0                   0.0                    1.0   \n",
       "\n",
       "   behavioral_large_gatherings  behavioral_outside_home  \\\n",
       "0                          0.0                      1.0   \n",
       "1                          0.0                      1.0   \n",
       "2                          0.0                      0.0   \n",
       "3                          1.0                      0.0   \n",
       "4                          1.0                      0.0   \n",
       "\n",
       "   behavioral_touch_face  ...  rent_or_own   employment_status  \\\n",
       "0                    1.0  ...          Own  Not in Labor Force   \n",
       "1                    1.0  ...         Rent            Employed   \n",
       "2                    0.0  ...          Own            Employed   \n",
       "3                    0.0  ...         Rent  Not in Labor Force   \n",
       "4                    1.0  ...          Own            Employed   \n",
       "\n",
       "   hhs_geo_region                census_msa  household_adults  \\\n",
       "0        oxchjgsf                   Non-MSA               0.0   \n",
       "1        bhuqouqj  MSA, Not Principle  City               0.0   \n",
       "2        qufhixun  MSA, Not Principle  City               2.0   \n",
       "3        lrircsnp       MSA, Principle City               0.0   \n",
       "4        qufhixun  MSA, Not Principle  City               1.0   \n",
       "\n",
       "   household_children  employment_industry  employment_occupation  \\\n",
       "0                 0.0                  NaN                    NaN   \n",
       "1                 0.0             pxcmvdjn               xgwztkwe   \n",
       "2                 0.0             rucpziij               xtkaffoo   \n",
       "3                 0.0                  NaN                    NaN   \n",
       "4                 0.0             wxleyezf               emcorrxb   \n",
       "\n",
       "   h1n1_vaccine  seasonal_vaccine  \n",
       "0             0                 0  \n",
       "1             0                 1  \n",
       "2             0                 0  \n",
       "3             0                 1  \n",
       "4             0                 0  \n",
       "\n",
       "[5 rows x 38 columns]"
      ]
     },
     "execution_count": 28,
     "metadata": {},
     "output_type": "execute_result"
    }
   ],
   "source": [
    "df_merged = df1.merge(df2, on='respondent_id', how='inner')\n",
    "\n",
    "df_merged.head()"
   ]
  },
  {
   "cell_type": "code",
   "execution_count": 73,
   "id": "cf54e8f3",
   "metadata": {},
   "outputs": [
    {
     "data": {
      "application/vnd.microsoft.datawrangler.viewer.v0+json": {
       "columns": [
        {
         "name": "index",
         "rawType": "int64",
         "type": "integer"
        },
        {
         "name": "h1n1_concern",
         "rawType": "float64",
         "type": "float"
        },
        {
         "name": "h1n1_knowledge",
         "rawType": "float64",
         "type": "float"
        },
        {
         "name": "behavioral_antiviral_meds",
         "rawType": "float64",
         "type": "float"
        },
        {
         "name": "behavioral_avoidance",
         "rawType": "float64",
         "type": "float"
        },
        {
         "name": "behavioral_face_mask",
         "rawType": "float64",
         "type": "float"
        },
        {
         "name": "behavioral_wash_hands",
         "rawType": "float64",
         "type": "float"
        },
        {
         "name": "behavioral_large_gatherings",
         "rawType": "float64",
         "type": "float"
        },
        {
         "name": "behavioral_outside_home",
         "rawType": "float64",
         "type": "float"
        },
        {
         "name": "behavioral_touch_face",
         "rawType": "float64",
         "type": "float"
        },
        {
         "name": "doctor_recc_h1n1",
         "rawType": "float64",
         "type": "float"
        },
        {
         "name": "doctor_recc_seasonal",
         "rawType": "float64",
         "type": "float"
        },
        {
         "name": "chronic_med_condition",
         "rawType": "float64",
         "type": "float"
        },
        {
         "name": "child_under_6_months",
         "rawType": "float64",
         "type": "float"
        },
        {
         "name": "health_worker",
         "rawType": "float64",
         "type": "float"
        },
        {
         "name": "opinion_h1n1_vacc_effective",
         "rawType": "float64",
         "type": "float"
        },
        {
         "name": "opinion_h1n1_risk",
         "rawType": "float64",
         "type": "float"
        },
        {
         "name": "opinion_h1n1_sick_from_vacc",
         "rawType": "float64",
         "type": "float"
        },
        {
         "name": "opinion_seas_vacc_effective",
         "rawType": "float64",
         "type": "float"
        },
        {
         "name": "opinion_seas_risk",
         "rawType": "float64",
         "type": "float"
        },
        {
         "name": "opinion_seas_sick_from_vacc",
         "rawType": "float64",
         "type": "float"
        },
        {
         "name": "age_group_35 - 44 Years",
         "rawType": "bool",
         "type": "boolean"
        },
        {
         "name": "age_group_45 - 54 Years",
         "rawType": "bool",
         "type": "boolean"
        },
        {
         "name": "age_group_55 - 64 Years",
         "rawType": "bool",
         "type": "boolean"
        },
        {
         "name": "age_group_65+ Years",
         "rawType": "bool",
         "type": "boolean"
        },
        {
         "name": "education_< 12 Years",
         "rawType": "bool",
         "type": "boolean"
        },
        {
         "name": "education_College Graduate",
         "rawType": "bool",
         "type": "boolean"
        },
        {
         "name": "education_Some College",
         "rawType": "bool",
         "type": "boolean"
        },
        {
         "name": "race_Hispanic",
         "rawType": "bool",
         "type": "boolean"
        },
        {
         "name": "race_Other or Multiple",
         "rawType": "bool",
         "type": "boolean"
        },
        {
         "name": "race_White",
         "rawType": "bool",
         "type": "boolean"
        },
        {
         "name": "sex_Male",
         "rawType": "bool",
         "type": "boolean"
        },
        {
         "name": "income_poverty_> $75,000",
         "rawType": "bool",
         "type": "boolean"
        },
        {
         "name": "income_poverty_Below Poverty",
         "rawType": "bool",
         "type": "boolean"
        },
        {
         "name": "marital_status_Not Married",
         "rawType": "bool",
         "type": "boolean"
        },
        {
         "name": "rent_or_own_Rent",
         "rawType": "bool",
         "type": "boolean"
        },
        {
         "name": "employment_status_Not in Labor Force",
         "rawType": "bool",
         "type": "boolean"
        },
        {
         "name": "employment_status_Unemployed",
         "rawType": "bool",
         "type": "boolean"
        },
        {
         "name": "hhs_geo_region_bhuqouqj",
         "rawType": "bool",
         "type": "boolean"
        },
        {
         "name": "hhs_geo_region_dqpwygqj",
         "rawType": "bool",
         "type": "boolean"
        },
        {
         "name": "hhs_geo_region_fpwskwrf",
         "rawType": "bool",
         "type": "boolean"
        },
        {
         "name": "hhs_geo_region_kbazzjca",
         "rawType": "bool",
         "type": "boolean"
        },
        {
         "name": "hhs_geo_region_lrircsnp",
         "rawType": "bool",
         "type": "boolean"
        },
        {
         "name": "hhs_geo_region_lzgpxyit",
         "rawType": "bool",
         "type": "boolean"
        },
        {
         "name": "hhs_geo_region_mlyzmhmf",
         "rawType": "bool",
         "type": "boolean"
        },
        {
         "name": "hhs_geo_region_oxchjgsf",
         "rawType": "bool",
         "type": "boolean"
        },
        {
         "name": "hhs_geo_region_qufhixun",
         "rawType": "bool",
         "type": "boolean"
        },
        {
         "name": "census_msa_MSA, Principle City",
         "rawType": "bool",
         "type": "boolean"
        },
        {
         "name": "census_msa_Non-MSA",
         "rawType": "bool",
         "type": "boolean"
        },
        {
         "name": "household_children",
         "rawType": "float64",
         "type": "float"
        },
        {
         "name": "employment_industry_arjwrbjb",
         "rawType": "bool",
         "type": "boolean"
        },
        {
         "name": "employment_industry_atmlpfrs",
         "rawType": "bool",
         "type": "boolean"
        },
        {
         "name": "employment_industry_cfqqtusy",
         "rawType": "bool",
         "type": "boolean"
        },
        {
         "name": "employment_industry_dotnnunm",
         "rawType": "bool",
         "type": "boolean"
        },
        {
         "name": "employment_industry_fcxhlnwr",
         "rawType": "bool",
         "type": "boolean"
        },
        {
         "name": "employment_industry_haxffmxo",
         "rawType": "bool",
         "type": "boolean"
        },
        {
         "name": "employment_industry_ldnlellj",
         "rawType": "bool",
         "type": "boolean"
        },
        {
         "name": "employment_industry_mcubkhph",
         "rawType": "bool",
         "type": "boolean"
        },
        {
         "name": "employment_industry_mfikgejo",
         "rawType": "bool",
         "type": "boolean"
        },
        {
         "name": "employment_industry_msuufmds",
         "rawType": "bool",
         "type": "boolean"
        },
        {
         "name": "employment_industry_nduyfdeo",
         "rawType": "bool",
         "type": "boolean"
        },
        {
         "name": "employment_industry_phxvnwax",
         "rawType": "bool",
         "type": "boolean"
        },
        {
         "name": "employment_industry_pxcmvdjn",
         "rawType": "bool",
         "type": "boolean"
        },
        {
         "name": "employment_industry_qnlwzans",
         "rawType": "bool",
         "type": "boolean"
        },
        {
         "name": "employment_industry_rucpziij",
         "rawType": "bool",
         "type": "boolean"
        },
        {
         "name": "employment_industry_saaquncn",
         "rawType": "bool",
         "type": "boolean"
        },
        {
         "name": "employment_industry_vjjrobsf",
         "rawType": "bool",
         "type": "boolean"
        },
        {
         "name": "employment_industry_wlfvacwt",
         "rawType": "bool",
         "type": "boolean"
        },
        {
         "name": "employment_industry_wxleyezf",
         "rawType": "bool",
         "type": "boolean"
        },
        {
         "name": "employment_industry_xicduogh",
         "rawType": "bool",
         "type": "boolean"
        },
        {
         "name": "employment_industry_xqicxuve",
         "rawType": "bool",
         "type": "boolean"
        },
        {
         "name": "employment_occupation_ccgxvspp",
         "rawType": "bool",
         "type": "boolean"
        },
        {
         "name": "employment_occupation_cmhcxjea",
         "rawType": "bool",
         "type": "boolean"
        },
        {
         "name": "employment_occupation_dcjcmpih",
         "rawType": "bool",
         "type": "boolean"
        },
        {
         "name": "employment_occupation_dlvbwzss",
         "rawType": "bool",
         "type": "boolean"
        },
        {
         "name": "employment_occupation_emcorrxb",
         "rawType": "bool",
         "type": "boolean"
        },
        {
         "name": "employment_occupation_haliazsg",
         "rawType": "bool",
         "type": "boolean"
        },
        {
         "name": "employment_occupation_hfxkjkmi",
         "rawType": "bool",
         "type": "boolean"
        },
        {
         "name": "employment_occupation_hodpvpew",
         "rawType": "bool",
         "type": "boolean"
        },
        {
         "name": "employment_occupation_kldqjyjy",
         "rawType": "bool",
         "type": "boolean"
        },
        {
         "name": "employment_occupation_mxkfnird",
         "rawType": "bool",
         "type": "boolean"
        },
        {
         "name": "employment_occupation_oijqvulv",
         "rawType": "bool",
         "type": "boolean"
        },
        {
         "name": "employment_occupation_pvmttkik",
         "rawType": "bool",
         "type": "boolean"
        },
        {
         "name": "employment_occupation_qxajmpny",
         "rawType": "bool",
         "type": "boolean"
        },
        {
         "name": "employment_occupation_rcertsgn",
         "rawType": "bool",
         "type": "boolean"
        },
        {
         "name": "employment_occupation_tfqavkke",
         "rawType": "bool",
         "type": "boolean"
        },
        {
         "name": "employment_occupation_ukymxvdu",
         "rawType": "bool",
         "type": "boolean"
        },
        {
         "name": "employment_occupation_uqqtjvyb",
         "rawType": "bool",
         "type": "boolean"
        },
        {
         "name": "employment_occupation_vlluhbov",
         "rawType": "bool",
         "type": "boolean"
        },
        {
         "name": "employment_occupation_xgwztkwe",
         "rawType": "bool",
         "type": "boolean"
        },
        {
         "name": "employment_occupation_xqwwgdyp",
         "rawType": "bool",
         "type": "boolean"
        },
        {
         "name": "employment_occupation_xtkaffoo",
         "rawType": "bool",
         "type": "boolean"
        },
        {
         "name": "employment_occupation_xzmlyyjv",
         "rawType": "bool",
         "type": "boolean"
        },
        {
         "name": "h1n1_vaccine",
         "rawType": "int64",
         "type": "integer"
        },
        {
         "name": "seasonal_vaccine",
         "rawType": "int64",
         "type": "integer"
        }
       ],
       "ref": "036e871d-74bd-48d7-865f-6dbb4e7f390c",
       "rows": [
        [
         "0",
         "1.0",
         "0.0",
         "0.0",
         "0.0",
         "0.0",
         "0.0",
         "0.0",
         "1.0",
         "1.0",
         "0.0",
         "0.0",
         "0.0",
         "0.0",
         "0.0",
         "3.0",
         "1.0",
         "2.0",
         "2.0",
         "1.0",
         "2.0",
         "False",
         "False",
         "True",
         "False",
         "True",
         "False",
         "False",
         "False",
         "False",
         "True",
         "False",
         "False",
         "True",
         "True",
         "False",
         "True",
         "False",
         "False",
         "False",
         "False",
         "False",
         "False",
         "False",
         "False",
         "True",
         "False",
         "False",
         "True",
         "0.0",
         "False",
         "False",
         "False",
         "False",
         "False",
         "False",
         "False",
         "False",
         "False",
         "False",
         "False",
         "False",
         "False",
         "False",
         "False",
         "False",
         "False",
         "False",
         "False",
         "False",
         "False",
         "False",
         "False",
         "False",
         "False",
         "False",
         "False",
         "False",
         "False",
         "False",
         "False",
         "False",
         "False",
         "False",
         "False",
         "False",
         "False",
         "False",
         "False",
         "False",
         "False",
         "False",
         "False",
         "0",
         "0"
        ],
        [
         "1",
         "3.0",
         "2.0",
         "0.0",
         "1.0",
         "0.0",
         "1.0",
         "0.0",
         "1.0",
         "1.0",
         "0.0",
         "0.0",
         "0.0",
         "0.0",
         "0.0",
         "5.0",
         "4.0",
         "4.0",
         "4.0",
         "2.0",
         "4.0",
         "True",
         "False",
         "False",
         "False",
         "False",
         "False",
         "False",
         "False",
         "False",
         "True",
         "True",
         "False",
         "True",
         "True",
         "True",
         "False",
         "False",
         "True",
         "False",
         "False",
         "False",
         "False",
         "False",
         "False",
         "False",
         "False",
         "False",
         "False",
         "0.0",
         "False",
         "False",
         "False",
         "False",
         "False",
         "False",
         "False",
         "False",
         "False",
         "False",
         "False",
         "False",
         "True",
         "False",
         "False",
         "False",
         "False",
         "False",
         "False",
         "False",
         "False",
         "False",
         "False",
         "False",
         "False",
         "False",
         "False",
         "False",
         "False",
         "False",
         "False",
         "False",
         "False",
         "False",
         "False",
         "False",
         "False",
         "False",
         "False",
         "True",
         "False",
         "False",
         "False",
         "0",
         "1"
        ],
        [
         "3",
         "1.0",
         "1.0",
         "0.0",
         "1.0",
         "0.0",
         "1.0",
         "1.0",
         "0.0",
         "0.0",
         "0.0",
         "1.0",
         "1.0",
         "0.0",
         "0.0",
         "3.0",
         "3.0",
         "5.0",
         "5.0",
         "4.0",
         "1.0",
         "False",
         "False",
         "False",
         "True",
         "False",
         "False",
         "False",
         "False",
         "False",
         "True",
         "False",
         "False",
         "True",
         "True",
         "True",
         "True",
         "False",
         "False",
         "False",
         "False",
         "False",
         "True",
         "False",
         "False",
         "False",
         "False",
         "True",
         "False",
         "0.0",
         "False",
         "False",
         "False",
         "False",
         "False",
         "False",
         "False",
         "False",
         "False",
         "False",
         "False",
         "False",
         "False",
         "False",
         "False",
         "False",
         "False",
         "False",
         "False",
         "False",
         "False",
         "False",
         "False",
         "False",
         "False",
         "False",
         "False",
         "False",
         "False",
         "False",
         "False",
         "False",
         "False",
         "False",
         "False",
         "False",
         "False",
         "False",
         "False",
         "False",
         "False",
         "False",
         "False",
         "0",
         "1"
        ],
        [
         "4",
         "2.0",
         "1.0",
         "0.0",
         "1.0",
         "0.0",
         "1.0",
         "1.0",
         "0.0",
         "1.0",
         "0.0",
         "0.0",
         "0.0",
         "0.0",
         "0.0",
         "3.0",
         "3.0",
         "2.0",
         "3.0",
         "1.0",
         "4.0",
         "False",
         "True",
         "False",
         "False",
         "False",
         "False",
         "True",
         "False",
         "False",
         "True",
         "False",
         "False",
         "False",
         "False",
         "False",
         "False",
         "False",
         "False",
         "False",
         "False",
         "False",
         "False",
         "False",
         "False",
         "False",
         "True",
         "False",
         "False",
         "0.0",
         "False",
         "False",
         "False",
         "False",
         "False",
         "False",
         "False",
         "False",
         "False",
         "False",
         "False",
         "False",
         "False",
         "False",
         "False",
         "False",
         "False",
         "False",
         "True",
         "False",
         "False",
         "False",
         "False",
         "False",
         "False",
         "True",
         "False",
         "False",
         "False",
         "False",
         "False",
         "False",
         "False",
         "False",
         "False",
         "False",
         "False",
         "False",
         "False",
         "False",
         "False",
         "False",
         "False",
         "0",
         "0"
        ],
        [
         "5",
         "3.0",
         "1.0",
         "0.0",
         "1.0",
         "0.0",
         "1.0",
         "0.0",
         "0.0",
         "1.0",
         "0.0",
         "1.0",
         "0.0",
         "0.0",
         "0.0",
         "5.0",
         "2.0",
         "1.0",
         "5.0",
         "4.0",
         "4.0",
         "False",
         "False",
         "False",
         "True",
         "False",
         "False",
         "False",
         "False",
         "False",
         "True",
         "True",
         "False",
         "False",
         "False",
         "False",
         "False",
         "False",
         "False",
         "False",
         "False",
         "False",
         "False",
         "False",
         "False",
         "False",
         "False",
         "True",
         "False",
         "3.0",
         "False",
         "False",
         "False",
         "False",
         "False",
         "False",
         "False",
         "False",
         "False",
         "False",
         "False",
         "False",
         "False",
         "False",
         "False",
         "True",
         "False",
         "False",
         "False",
         "False",
         "False",
         "False",
         "False",
         "False",
         "False",
         "False",
         "False",
         "False",
         "False",
         "False",
         "False",
         "False",
         "False",
         "False",
         "False",
         "False",
         "False",
         "False",
         "True",
         "False",
         "False",
         "False",
         "False",
         "0",
         "0"
        ]
       ],
       "shape": {
        "columns": 94,
        "rows": 5
       }
      },
      "text/html": [
       "<div>\n",
       "<style scoped>\n",
       "    .dataframe tbody tr th:only-of-type {\n",
       "        vertical-align: middle;\n",
       "    }\n",
       "\n",
       "    .dataframe tbody tr th {\n",
       "        vertical-align: top;\n",
       "    }\n",
       "\n",
       "    .dataframe thead th {\n",
       "        text-align: right;\n",
       "    }\n",
       "</style>\n",
       "<table border=\"1\" class=\"dataframe\">\n",
       "  <thead>\n",
       "    <tr style=\"text-align: right;\">\n",
       "      <th></th>\n",
       "      <th>h1n1_concern</th>\n",
       "      <th>h1n1_knowledge</th>\n",
       "      <th>behavioral_antiviral_meds</th>\n",
       "      <th>behavioral_avoidance</th>\n",
       "      <th>behavioral_face_mask</th>\n",
       "      <th>behavioral_wash_hands</th>\n",
       "      <th>behavioral_large_gatherings</th>\n",
       "      <th>behavioral_outside_home</th>\n",
       "      <th>behavioral_touch_face</th>\n",
       "      <th>doctor_recc_h1n1</th>\n",
       "      <th>...</th>\n",
       "      <th>employment_occupation_tfqavkke</th>\n",
       "      <th>employment_occupation_ukymxvdu</th>\n",
       "      <th>employment_occupation_uqqtjvyb</th>\n",
       "      <th>employment_occupation_vlluhbov</th>\n",
       "      <th>employment_occupation_xgwztkwe</th>\n",
       "      <th>employment_occupation_xqwwgdyp</th>\n",
       "      <th>employment_occupation_xtkaffoo</th>\n",
       "      <th>employment_occupation_xzmlyyjv</th>\n",
       "      <th>h1n1_vaccine</th>\n",
       "      <th>seasonal_vaccine</th>\n",
       "    </tr>\n",
       "  </thead>\n",
       "  <tbody>\n",
       "    <tr>\n",
       "      <th>0</th>\n",
       "      <td>1.0</td>\n",
       "      <td>0.0</td>\n",
       "      <td>0.0</td>\n",
       "      <td>0.0</td>\n",
       "      <td>0.0</td>\n",
       "      <td>0.0</td>\n",
       "      <td>0.0</td>\n",
       "      <td>1.0</td>\n",
       "      <td>1.0</td>\n",
       "      <td>0.0</td>\n",
       "      <td>...</td>\n",
       "      <td>False</td>\n",
       "      <td>False</td>\n",
       "      <td>False</td>\n",
       "      <td>False</td>\n",
       "      <td>False</td>\n",
       "      <td>False</td>\n",
       "      <td>False</td>\n",
       "      <td>False</td>\n",
       "      <td>0</td>\n",
       "      <td>0</td>\n",
       "    </tr>\n",
       "    <tr>\n",
       "      <th>1</th>\n",
       "      <td>3.0</td>\n",
       "      <td>2.0</td>\n",
       "      <td>0.0</td>\n",
       "      <td>1.0</td>\n",
       "      <td>0.0</td>\n",
       "      <td>1.0</td>\n",
       "      <td>0.0</td>\n",
       "      <td>1.0</td>\n",
       "      <td>1.0</td>\n",
       "      <td>0.0</td>\n",
       "      <td>...</td>\n",
       "      <td>False</td>\n",
       "      <td>False</td>\n",
       "      <td>False</td>\n",
       "      <td>False</td>\n",
       "      <td>True</td>\n",
       "      <td>False</td>\n",
       "      <td>False</td>\n",
       "      <td>False</td>\n",
       "      <td>0</td>\n",
       "      <td>1</td>\n",
       "    </tr>\n",
       "    <tr>\n",
       "      <th>3</th>\n",
       "      <td>1.0</td>\n",
       "      <td>1.0</td>\n",
       "      <td>0.0</td>\n",
       "      <td>1.0</td>\n",
       "      <td>0.0</td>\n",
       "      <td>1.0</td>\n",
       "      <td>1.0</td>\n",
       "      <td>0.0</td>\n",
       "      <td>0.0</td>\n",
       "      <td>0.0</td>\n",
       "      <td>...</td>\n",
       "      <td>False</td>\n",
       "      <td>False</td>\n",
       "      <td>False</td>\n",
       "      <td>False</td>\n",
       "      <td>False</td>\n",
       "      <td>False</td>\n",
       "      <td>False</td>\n",
       "      <td>False</td>\n",
       "      <td>0</td>\n",
       "      <td>1</td>\n",
       "    </tr>\n",
       "    <tr>\n",
       "      <th>4</th>\n",
       "      <td>2.0</td>\n",
       "      <td>1.0</td>\n",
       "      <td>0.0</td>\n",
       "      <td>1.0</td>\n",
       "      <td>0.0</td>\n",
       "      <td>1.0</td>\n",
       "      <td>1.0</td>\n",
       "      <td>0.0</td>\n",
       "      <td>1.0</td>\n",
       "      <td>0.0</td>\n",
       "      <td>...</td>\n",
       "      <td>False</td>\n",
       "      <td>False</td>\n",
       "      <td>False</td>\n",
       "      <td>False</td>\n",
       "      <td>False</td>\n",
       "      <td>False</td>\n",
       "      <td>False</td>\n",
       "      <td>False</td>\n",
       "      <td>0</td>\n",
       "      <td>0</td>\n",
       "    </tr>\n",
       "    <tr>\n",
       "      <th>5</th>\n",
       "      <td>3.0</td>\n",
       "      <td>1.0</td>\n",
       "      <td>0.0</td>\n",
       "      <td>1.0</td>\n",
       "      <td>0.0</td>\n",
       "      <td>1.0</td>\n",
       "      <td>0.0</td>\n",
       "      <td>0.0</td>\n",
       "      <td>1.0</td>\n",
       "      <td>0.0</td>\n",
       "      <td>...</td>\n",
       "      <td>False</td>\n",
       "      <td>False</td>\n",
       "      <td>False</td>\n",
       "      <td>True</td>\n",
       "      <td>False</td>\n",
       "      <td>False</td>\n",
       "      <td>False</td>\n",
       "      <td>False</td>\n",
       "      <td>0</td>\n",
       "      <td>0</td>\n",
       "    </tr>\n",
       "  </tbody>\n",
       "</table>\n",
       "<p>5 rows × 94 columns</p>\n",
       "</div>"
      ],
      "text/plain": [
       "   h1n1_concern  h1n1_knowledge  behavioral_antiviral_meds  \\\n",
       "0           1.0             0.0                        0.0   \n",
       "1           3.0             2.0                        0.0   \n",
       "3           1.0             1.0                        0.0   \n",
       "4           2.0             1.0                        0.0   \n",
       "5           3.0             1.0                        0.0   \n",
       "\n",
       "   behavioral_avoidance  behavioral_face_mask  behavioral_wash_hands  \\\n",
       "0                   0.0                   0.0                    0.0   \n",
       "1                   1.0                   0.0                    1.0   \n",
       "3                   1.0                   0.0                    1.0   \n",
       "4                   1.0                   0.0                    1.0   \n",
       "5                   1.0                   0.0                    1.0   \n",
       "\n",
       "   behavioral_large_gatherings  behavioral_outside_home  \\\n",
       "0                          0.0                      1.0   \n",
       "1                          0.0                      1.0   \n",
       "3                          1.0                      0.0   \n",
       "4                          1.0                      0.0   \n",
       "5                          0.0                      0.0   \n",
       "\n",
       "   behavioral_touch_face  doctor_recc_h1n1  ...  \\\n",
       "0                    1.0               0.0  ...   \n",
       "1                    1.0               0.0  ...   \n",
       "3                    0.0               0.0  ...   \n",
       "4                    1.0               0.0  ...   \n",
       "5                    1.0               0.0  ...   \n",
       "\n",
       "   employment_occupation_tfqavkke  employment_occupation_ukymxvdu  \\\n",
       "0                           False                           False   \n",
       "1                           False                           False   \n",
       "3                           False                           False   \n",
       "4                           False                           False   \n",
       "5                           False                           False   \n",
       "\n",
       "   employment_occupation_uqqtjvyb  employment_occupation_vlluhbov  \\\n",
       "0                           False                           False   \n",
       "1                           False                           False   \n",
       "3                           False                           False   \n",
       "4                           False                           False   \n",
       "5                           False                            True   \n",
       "\n",
       "   employment_occupation_xgwztkwe  employment_occupation_xqwwgdyp  \\\n",
       "0                           False                           False   \n",
       "1                            True                           False   \n",
       "3                           False                           False   \n",
       "4                           False                           False   \n",
       "5                           False                           False   \n",
       "\n",
       "   employment_occupation_xtkaffoo  employment_occupation_xzmlyyjv  \\\n",
       "0                           False                           False   \n",
       "1                           False                           False   \n",
       "3                           False                           False   \n",
       "4                           False                           False   \n",
       "5                           False                           False   \n",
       "\n",
       "   h1n1_vaccine  seasonal_vaccine  \n",
       "0             0                 0  \n",
       "1             0                 1  \n",
       "3             0                 1  \n",
       "4             0                 0  \n",
       "5             0                 0  \n",
       "\n",
       "[5 rows x 94 columns]"
      ]
     },
     "execution_count": 73,
     "metadata": {},
     "output_type": "execute_result"
    }
   ],
   "source": [
    "\"\"\"\n",
    "Cell generated by Data Wrangler.\n",
    "\"\"\"\n",
    "def clean_data(df_merged):\n",
    "    # Drop columns: 'respondent_id', 'health_insurance'\n",
    "    df_merged = df_merged.drop(columns=['respondent_id', 'health_insurance'])\n",
    "    return df_merged\n",
    "\n",
    "df_merged_clean = clean_data(df_merged.copy())\n",
    "df_merged_clean.head()\n",
    "\n",
    "\"\"\"\n",
    "Cell generated by Data Wrangler.\n",
    "\"\"\"\n",
    "import pandas as pd\n",
    "\n",
    "def clean_data(df_merged_clean):\n",
    "    # One-hot encode columns: 'age_group', 'education' and 10 other columns\n",
    "    for column in ['age_group', 'education', 'race', 'sex', 'income_poverty', 'marital_status', 'rent_or_own', 'employment_status', 'hhs_geo_region', 'census_msa', 'employment_industry', 'employment_occupation']:\n",
    "        insert_loc = df_merged_clean.columns.get_loc(column)\n",
    "        df_merged_clean = pd.concat([df_merged_clean.iloc[:,:insert_loc], pd.get_dummies(df_merged_clean.loc[:, [column]], dummy_na=True), df_merged_clean.iloc[:,insert_loc+1:]], axis=1)\n",
    "    return df_merged_clean\n",
    "\n",
    "df_merged_clean_1 = clean_data(df_merged_clean.copy())\n",
    "df_merged_clean_1.head()\n",
    "\n",
    "\"\"\"\n",
    "Cell generated by Data Wrangler.\n",
    "\"\"\"\n",
    "def clean_data(df_merged_clean_1):\n",
    "    # Drop columns: 'age_group_nan', 'age_group_18 - 34 Years' and 22 other columns\n",
    "    df_merged_clean_1 = df_merged_clean_1.drop(columns=['age_group_nan', 'age_group_18 - 34 Years', 'education_nan', 'education_12 Years', 'race_nan', 'race_Black', 'sex_nan', 'sex_Female', 'income_poverty_nan', 'income_poverty_<= $75,000, Above Poverty', 'marital_status_nan', 'marital_status_Married', 'rent_or_own_nan', 'rent_or_own_Own', 'employment_status_nan', 'employment_status_Employed', 'hhs_geo_region_nan', 'hhs_geo_region_atmpeygn', 'census_msa_nan', 'census_msa_MSA, Not Principle  City', 'employment_industry_nan', 'household_adults', 'employment_occupation_bxpfxfdn', 'employment_occupation_nan'])\n",
    "    return df_merged_clean_1\n",
    "\n",
    "df_merged_clean_2 = clean_data(df_merged_clean_1.copy())\n",
    "df_merged_clean_2.head()\n",
    "\n",
    "\"\"\"\n",
    "Cell generated by Data Wrangler.\n",
    "\"\"\"\n",
    "def clean_data(df_merged_clean_2):\n",
    "    # Drop rows with missing data across all columns\n",
    "    df_merged_clean_2 = df_merged_clean_2.dropna()\n",
    "    return df_merged_clean_2\n",
    "\n",
    "df_merged_clean_3 = clean_data(df_merged_clean_2.copy())\n",
    "df_merged_clean_3.head()\n",
    "\n"
   ]
  },
  {
   "cell_type": "code",
   "execution_count": 33,
   "id": "3d3fddbf",
   "metadata": {},
   "outputs": [],
   "source": [
    "Y = df_merged_clean_3[['seasonal_vaccine', 'h1n1_vaccine']]\n",
    "X = df_merged_clean_3.drop(['seasonal_vaccine', 'h1n1_vaccine'], axis=1)"
   ]
  },
  {
   "cell_type": "code",
   "execution_count": 34,
   "id": "bbd98538",
   "metadata": {},
   "outputs": [
    {
     "name": "stdout",
     "output_type": "stream",
     "text": [
      "Fold 1: Accuracy = 0.810, F1 = 0.675\n",
      "Fold 2: Accuracy = 0.805, F1 = 0.672\n",
      "Fold 3: Accuracy = 0.808, F1 = 0.659\n",
      "Fold 4: Accuracy = 0.805, F1 = 0.670\n",
      "Fold 5: Accuracy = 0.798, F1 = 0.663\n",
      "\n",
      "Overall Accuracy: 0.805 ± 0.004\n",
      "Overall F1-macro: 0.668 ± 0.006\n"
     ]
    }
   ],
   "source": [
    "X.columns = (\n",
    "    X.columns.astype(str)\n",
    "    .str.replace('[', '(', regex=False)\n",
    "    .str.replace(']', ')', regex=False)\n",
    "    .str.replace('<', 'lt', regex=False)\n",
    "    .str.replace('>', 'gt', regex=False)\n",
    ")\n",
    "\n",
    "\n",
    "kf = KFold(n_splits=5, shuffle=True, random_state=42)\n",
    "accuracy_scores, f1_scores = [], []\n",
    "\n",
    "for fold, (train_idx, test_idx) in enumerate(kf.split(X), 1):\n",
    "    X_train, X_test = X.iloc[train_idx], X.iloc[test_idx]\n",
    "    Y_train, Y_test = Y.iloc[train_idx], Y.iloc[test_idx]\n",
    "\n",
    "    model = MultiOutputClassifier(\n",
    "        XGBClassifier(random_state=42, n_estimators=100, eval_metric='logloss')\n",
    "    )\n",
    "    model.fit(X_train, Y_train)\n",
    "\n",
    "    Y_pred = model.predict(X_test)\n",
    "    \n",
    "    accuracy = np.mean([\n",
    "        accuracy_score(Y_test.iloc[:, i], Y_pred[:, i]) for i in range(Y.shape[1])\n",
    "    ])\n",
    "    f1 = f1_score(Y_test, Y_pred, average='macro')\n",
    "\n",
    "    accuracy_scores.append(accuracy)\n",
    "    f1_scores.append(f1)\n",
    "\n",
    "    print(f\"Fold {fold}: Accuracy = {accuracy:.3f}, F1 = {f1:.3f}\")\n",
    "\n",
    "print(f\"\\nOverall Accuracy: {np.mean(accuracy_scores):.3f} ± {np.std(accuracy_scores):.3f}\")\n",
    "print(f\"Overall F1-macro: {np.mean(f1_scores):.3f} ± {np.std(f1_scores):.3f}\")"
   ]
  },
  {
   "cell_type": "code",
   "execution_count": null,
   "id": "7c344cf9",
   "metadata": {},
   "outputs": [
    {
     "name": "stdout",
     "output_type": "stream",
     "text": [
      "Fitting 3 folds for each of 2187 candidates, totalling 6561 fits\n",
      "Лучшие параметры: {'colsample_bytree': 0.9, 'gamma': 3, 'learning_rate': 0.05, 'max_depth': 5, 'min_child_weight': 5, 'n_estimators': 500, 'subsample': 0.7}\n",
      "Лучший AUC: 0.8470897528338014\n"
     ]
    }
   ],
   "source": [
    "XGBClassifier(\n",
    "    tree_method='hist',\n",
    "    device='cuda',\n",
    "    random_state=42,\n",
    "    eval_metric='logloss',\n",
    "    n_estimators=500,\n",
    "    max_depth=3,\n",
    "    learning_rate=0.05,\n",
    "    subsample=0.7,\n",
    "    colsample_bytree=0.7,\n",
    "    gamma=3,\n",
    "    min_child_weight=1\n",
    ")\n",
    "\n",
    "\n",
    "\n",
    "param_grid = {\n",
    "    'n_estimators': [100, 300, 500],\n",
    "    'learning_rate': [0.01, 0.05, 0.1],\n",
    "    'max_depth': [3, 5, 7],\n",
    "    'subsample': [0.7, 0.9, 1.0],\n",
    "    'colsample_bytree': [0.7, 0.9, 1.0],\n",
    "    'min_child_weight': [1, 3, 5],\n",
    "    'gamma': [0, 1, 3]\n",
    "}\n",
    "\n",
    "xgb = XGBClassifier(\n",
    "    random_state=42,\n",
    "    eval_metric='logloss'\n",
    ")\n",
    "\n",
    "grid = GridSearchCV(\n",
    "    estimator=xgb,\n",
    "    param_grid=param_grid,\n",
    "    scoring='roc_auc',\n",
    "    cv=3,\n",
    "    verbose=4,\n",
    "    n_jobs=-1\n",
    ")\n",
    "\n",
    "grid.fit(X, Y['h1n1_vaccine'])\n",
    "print(\"Best param: \", grid.best_params_)\n",
    "print(\"Best AUC:\", grid.best_score_)\n"
   ]
  },
  {
   "cell_type": "code",
   "execution_count": null,
   "id": "6b8b4ae4",
   "metadata": {},
   "outputs": [
    {
     "name": "stderr",
     "output_type": "stream",
     "text": [
      "c:\\Users\\Griga\\AppData\\Local\\Programs\\Python\\Python313\\Lib\\site-packages\\xgboost\\training.py:183: UserWarning: [22:50:25] WARNING: C:\\actions-runner\\_work\\xgboost\\xgboost\\src\\common\\error_msg.cc:27: The tree method `gpu_hist` is deprecated since 2.0.0. To use GPU training, set the `device` parameter to CUDA instead.\n",
      "\n",
      "    E.g. tree_method = \"hist\", device = \"cuda\"\n",
      "\n",
      "  bst.update(dtrain, iteration=i, fobj=obj)\n",
      "c:\\Users\\Griga\\AppData\\Local\\Programs\\Python\\Python313\\Lib\\site-packages\\xgboost\\training.py:183: UserWarning: [22:50:25] WARNING: C:\\actions-runner\\_work\\xgboost\\xgboost\\src\\learner.cc:738: \n",
      "Parameters: { \"predictor\" } are not used.\n",
      "\n",
      "  bst.update(dtrain, iteration=i, fobj=obj)\n",
      "c:\\Users\\Griga\\AppData\\Local\\Programs\\Python\\Python313\\Lib\\site-packages\\xgboost\\training.py:183: UserWarning: [22:50:35] WARNING: C:\\actions-runner\\_work\\xgboost\\xgboost\\src\\common\\error_msg.cc:27: The tree method `gpu_hist` is deprecated since 2.0.0. To use GPU training, set the `device` parameter to CUDA instead.\n",
      "\n",
      "    E.g. tree_method = \"hist\", device = \"cuda\"\n",
      "\n",
      "  bst.update(dtrain, iteration=i, fobj=obj)\n",
      "c:\\Users\\Griga\\AppData\\Local\\Programs\\Python\\Python313\\Lib\\site-packages\\xgboost\\training.py:183: UserWarning: [22:50:35] WARNING: C:\\actions-runner\\_work\\xgboost\\xgboost\\src\\learner.cc:738: \n",
      "Parameters: { \"predictor\" } are not used.\n",
      "\n",
      "  bst.update(dtrain, iteration=i, fobj=obj)\n",
      "c:\\Users\\Griga\\AppData\\Local\\Programs\\Python\\Python313\\Lib\\site-packages\\xgboost\\sklearn.py:1430: UserWarning: [22:50:46] WARNING: C:\\actions-runner\\_work\\xgboost\\xgboost\\src\\common\\error_msg.cc:27: The tree method `gpu_hist` is deprecated since 2.0.0. To use GPU training, set the `device` parameter to CUDA instead.\n",
      "\n",
      "    E.g. tree_method = \"hist\", device = \"cuda\"\n",
      "\n",
      "  return booster.num_features()\n",
      "c:\\Users\\Griga\\AppData\\Local\\Programs\\Python\\Python313\\Lib\\site-packages\\xgboost\\core.py:729: UserWarning: [22:50:46] WARNING: C:\\actions-runner\\_work\\xgboost\\xgboost\\src\\common\\error_msg.cc:58: Falling back to prediction using DMatrix due to mismatched devices. This might lead to higher memory usage and slower performance. XGBoost is running on: cuda:0, while the input data is on: cpu.\n",
      "Potential solutions:\n",
      "- Use a data structure that matches the device ordinal in the booster.\n",
      "- Set the device for booster before call to inplace_predict.\n",
      "\n",
      "This warning will only be shown once.\n",
      "\n",
      "  return func(**kwargs)\n",
      "c:\\Users\\Griga\\AppData\\Local\\Programs\\Python\\Python313\\Lib\\site-packages\\xgboost\\core.py:2676: UserWarning: [22:50:46] WARNING: C:\\actions-runner\\_work\\xgboost\\xgboost\\src\\common\\error_msg.cc:27: The tree method `gpu_hist` is deprecated since 2.0.0. To use GPU training, set the `device` parameter to CUDA instead.\n",
      "\n",
      "    E.g. tree_method = \"hist\", device = \"cuda\"\n",
      "\n",
      "  if len(data.shape) != 1 and self.num_features() != data.shape[1]:\n"
     ]
    },
    {
     "name": "stdout",
     "output_type": "stream",
     "text": [
      "Fold 1: Accuracy = 0.820, F1 = 0.683\n",
      "Fold 1: AUC_h1n1 = 0.867, AUC_seasonal = 0.853, Mean AUC = 0.860\n"
     ]
    },
    {
     "name": "stderr",
     "output_type": "stream",
     "text": [
      "c:\\Users\\Griga\\AppData\\Local\\Programs\\Python\\Python313\\Lib\\site-packages\\xgboost\\training.py:183: UserWarning: [22:50:46] WARNING: C:\\actions-runner\\_work\\xgboost\\xgboost\\src\\common\\error_msg.cc:27: The tree method `gpu_hist` is deprecated since 2.0.0. To use GPU training, set the `device` parameter to CUDA instead.\n",
      "\n",
      "    E.g. tree_method = \"hist\", device = \"cuda\"\n",
      "\n",
      "  bst.update(dtrain, iteration=i, fobj=obj)\n",
      "c:\\Users\\Griga\\AppData\\Local\\Programs\\Python\\Python313\\Lib\\site-packages\\xgboost\\training.py:183: UserWarning: [22:50:46] WARNING: C:\\actions-runner\\_work\\xgboost\\xgboost\\src\\learner.cc:738: \n",
      "Parameters: { \"predictor\" } are not used.\n",
      "\n",
      "  bst.update(dtrain, iteration=i, fobj=obj)\n",
      "c:\\Users\\Griga\\AppData\\Local\\Programs\\Python\\Python313\\Lib\\site-packages\\xgboost\\training.py:183: UserWarning: [22:50:55] WARNING: C:\\actions-runner\\_work\\xgboost\\xgboost\\src\\common\\error_msg.cc:27: The tree method `gpu_hist` is deprecated since 2.0.0. To use GPU training, set the `device` parameter to CUDA instead.\n",
      "\n",
      "    E.g. tree_method = \"hist\", device = \"cuda\"\n",
      "\n",
      "  bst.update(dtrain, iteration=i, fobj=obj)\n",
      "c:\\Users\\Griga\\AppData\\Local\\Programs\\Python\\Python313\\Lib\\site-packages\\xgboost\\training.py:183: UserWarning: [22:50:55] WARNING: C:\\actions-runner\\_work\\xgboost\\xgboost\\src\\learner.cc:738: \n",
      "Parameters: { \"predictor\" } are not used.\n",
      "\n",
      "  bst.update(dtrain, iteration=i, fobj=obj)\n",
      "c:\\Users\\Griga\\AppData\\Local\\Programs\\Python\\Python313\\Lib\\site-packages\\xgboost\\sklearn.py:1430: UserWarning: [22:51:01] WARNING: C:\\actions-runner\\_work\\xgboost\\xgboost\\src\\common\\error_msg.cc:27: The tree method `gpu_hist` is deprecated since 2.0.0. To use GPU training, set the `device` parameter to CUDA instead.\n",
      "\n",
      "    E.g. tree_method = \"hist\", device = \"cuda\"\n",
      "\n",
      "  return booster.num_features()\n",
      "c:\\Users\\Griga\\AppData\\Local\\Programs\\Python\\Python313\\Lib\\site-packages\\xgboost\\core.py:2676: UserWarning: [22:51:01] WARNING: C:\\actions-runner\\_work\\xgboost\\xgboost\\src\\common\\error_msg.cc:27: The tree method `gpu_hist` is deprecated since 2.0.0. To use GPU training, set the `device` parameter to CUDA instead.\n",
      "\n",
      "    E.g. tree_method = \"hist\", device = \"cuda\"\n",
      "\n",
      "  if len(data.shape) != 1 and self.num_features() != data.shape[1]:\n"
     ]
    },
    {
     "name": "stdout",
     "output_type": "stream",
     "text": [
      "Fold 2: Accuracy = 0.814, F1 = 0.682\n",
      "Fold 2: AUC_h1n1 = 0.869, AUC_seasonal = 0.850, Mean AUC = 0.860\n"
     ]
    },
    {
     "name": "stderr",
     "output_type": "stream",
     "text": [
      "c:\\Users\\Griga\\AppData\\Local\\Programs\\Python\\Python313\\Lib\\site-packages\\xgboost\\training.py:183: UserWarning: [22:51:02] WARNING: C:\\actions-runner\\_work\\xgboost\\xgboost\\src\\common\\error_msg.cc:27: The tree method `gpu_hist` is deprecated since 2.0.0. To use GPU training, set the `device` parameter to CUDA instead.\n",
      "\n",
      "    E.g. tree_method = \"hist\", device = \"cuda\"\n",
      "\n",
      "  bst.update(dtrain, iteration=i, fobj=obj)\n",
      "c:\\Users\\Griga\\AppData\\Local\\Programs\\Python\\Python313\\Lib\\site-packages\\xgboost\\training.py:183: UserWarning: [22:51:02] WARNING: C:\\actions-runner\\_work\\xgboost\\xgboost\\src\\learner.cc:738: \n",
      "Parameters: { \"predictor\" } are not used.\n",
      "\n",
      "  bst.update(dtrain, iteration=i, fobj=obj)\n",
      "c:\\Users\\Griga\\AppData\\Local\\Programs\\Python\\Python313\\Lib\\site-packages\\xgboost\\training.py:183: UserWarning: [22:51:11] WARNING: C:\\actions-runner\\_work\\xgboost\\xgboost\\src\\common\\error_msg.cc:27: The tree method `gpu_hist` is deprecated since 2.0.0. To use GPU training, set the `device` parameter to CUDA instead.\n",
      "\n",
      "    E.g. tree_method = \"hist\", device = \"cuda\"\n",
      "\n",
      "  bst.update(dtrain, iteration=i, fobj=obj)\n",
      "c:\\Users\\Griga\\AppData\\Local\\Programs\\Python\\Python313\\Lib\\site-packages\\xgboost\\training.py:183: UserWarning: [22:51:11] WARNING: C:\\actions-runner\\_work\\xgboost\\xgboost\\src\\learner.cc:738: \n",
      "Parameters: { \"predictor\" } are not used.\n",
      "\n",
      "  bst.update(dtrain, iteration=i, fobj=obj)\n",
      "c:\\Users\\Griga\\AppData\\Local\\Programs\\Python\\Python313\\Lib\\site-packages\\xgboost\\sklearn.py:1430: UserWarning: [22:51:20] WARNING: C:\\actions-runner\\_work\\xgboost\\xgboost\\src\\common\\error_msg.cc:27: The tree method `gpu_hist` is deprecated since 2.0.0. To use GPU training, set the `device` parameter to CUDA instead.\n",
      "\n",
      "    E.g. tree_method = \"hist\", device = \"cuda\"\n",
      "\n",
      "  return booster.num_features()\n",
      "c:\\Users\\Griga\\AppData\\Local\\Programs\\Python\\Python313\\Lib\\site-packages\\xgboost\\core.py:2676: UserWarning: [22:51:20] WARNING: C:\\actions-runner\\_work\\xgboost\\xgboost\\src\\common\\error_msg.cc:27: The tree method `gpu_hist` is deprecated since 2.0.0. To use GPU training, set the `device` parameter to CUDA instead.\n",
      "\n",
      "    E.g. tree_method = \"hist\", device = \"cuda\"\n",
      "\n",
      "  if len(data.shape) != 1 and self.num_features() != data.shape[1]:\n"
     ]
    },
    {
     "name": "stdout",
     "output_type": "stream",
     "text": [
      "Fold 3: Accuracy = 0.818, F1 = 0.673\n",
      "Fold 3: AUC_h1n1 = 0.871, AUC_seasonal = 0.850, Mean AUC = 0.860\n"
     ]
    },
    {
     "name": "stderr",
     "output_type": "stream",
     "text": [
      "c:\\Users\\Griga\\AppData\\Local\\Programs\\Python\\Python313\\Lib\\site-packages\\xgboost\\training.py:183: UserWarning: [22:51:20] WARNING: C:\\actions-runner\\_work\\xgboost\\xgboost\\src\\common\\error_msg.cc:27: The tree method `gpu_hist` is deprecated since 2.0.0. To use GPU training, set the `device` parameter to CUDA instead.\n",
      "\n",
      "    E.g. tree_method = \"hist\", device = \"cuda\"\n",
      "\n",
      "  bst.update(dtrain, iteration=i, fobj=obj)\n",
      "c:\\Users\\Griga\\AppData\\Local\\Programs\\Python\\Python313\\Lib\\site-packages\\xgboost\\training.py:183: UserWarning: [22:51:20] WARNING: C:\\actions-runner\\_work\\xgboost\\xgboost\\src\\learner.cc:738: \n",
      "Parameters: { \"predictor\" } are not used.\n",
      "\n",
      "  bst.update(dtrain, iteration=i, fobj=obj)\n",
      "c:\\Users\\Griga\\AppData\\Local\\Programs\\Python\\Python313\\Lib\\site-packages\\xgboost\\training.py:183: UserWarning: [22:51:30] WARNING: C:\\actions-runner\\_work\\xgboost\\xgboost\\src\\common\\error_msg.cc:27: The tree method `gpu_hist` is deprecated since 2.0.0. To use GPU training, set the `device` parameter to CUDA instead.\n",
      "\n",
      "    E.g. tree_method = \"hist\", device = \"cuda\"\n",
      "\n",
      "  bst.update(dtrain, iteration=i, fobj=obj)\n",
      "c:\\Users\\Griga\\AppData\\Local\\Programs\\Python\\Python313\\Lib\\site-packages\\xgboost\\training.py:183: UserWarning: [22:51:30] WARNING: C:\\actions-runner\\_work\\xgboost\\xgboost\\src\\learner.cc:738: \n",
      "Parameters: { \"predictor\" } are not used.\n",
      "\n",
      "  bst.update(dtrain, iteration=i, fobj=obj)\n",
      "c:\\Users\\Griga\\AppData\\Local\\Programs\\Python\\Python313\\Lib\\site-packages\\xgboost\\sklearn.py:1430: UserWarning: [22:51:39] WARNING: C:\\actions-runner\\_work\\xgboost\\xgboost\\src\\common\\error_msg.cc:27: The tree method `gpu_hist` is deprecated since 2.0.0. To use GPU training, set the `device` parameter to CUDA instead.\n",
      "\n",
      "    E.g. tree_method = \"hist\", device = \"cuda\"\n",
      "\n",
      "  return booster.num_features()\n",
      "c:\\Users\\Griga\\AppData\\Local\\Programs\\Python\\Python313\\Lib\\site-packages\\xgboost\\core.py:2676: UserWarning: [22:51:39] WARNING: C:\\actions-runner\\_work\\xgboost\\xgboost\\src\\common\\error_msg.cc:27: The tree method `gpu_hist` is deprecated since 2.0.0. To use GPU training, set the `device` parameter to CUDA instead.\n",
      "\n",
      "    E.g. tree_method = \"hist\", device = \"cuda\"\n",
      "\n",
      "  if len(data.shape) != 1 and self.num_features() != data.shape[1]:\n"
     ]
    },
    {
     "name": "stdout",
     "output_type": "stream",
     "text": [
      "Fold 4: Accuracy = 0.813, F1 = 0.676\n",
      "Fold 4: AUC_h1n1 = 0.866, AUC_seasonal = 0.848, Mean AUC = 0.857\n"
     ]
    },
    {
     "name": "stderr",
     "output_type": "stream",
     "text": [
      "c:\\Users\\Griga\\AppData\\Local\\Programs\\Python\\Python313\\Lib\\site-packages\\xgboost\\training.py:183: UserWarning: [22:51:39] WARNING: C:\\actions-runner\\_work\\xgboost\\xgboost\\src\\common\\error_msg.cc:27: The tree method `gpu_hist` is deprecated since 2.0.0. To use GPU training, set the `device` parameter to CUDA instead.\n",
      "\n",
      "    E.g. tree_method = \"hist\", device = \"cuda\"\n",
      "\n",
      "  bst.update(dtrain, iteration=i, fobj=obj)\n",
      "c:\\Users\\Griga\\AppData\\Local\\Programs\\Python\\Python313\\Lib\\site-packages\\xgboost\\training.py:183: UserWarning: [22:51:39] WARNING: C:\\actions-runner\\_work\\xgboost\\xgboost\\src\\learner.cc:738: \n",
      "Parameters: { \"predictor\" } are not used.\n",
      "\n",
      "  bst.update(dtrain, iteration=i, fobj=obj)\n",
      "c:\\Users\\Griga\\AppData\\Local\\Programs\\Python\\Python313\\Lib\\site-packages\\xgboost\\training.py:183: UserWarning: [22:51:49] WARNING: C:\\actions-runner\\_work\\xgboost\\xgboost\\src\\common\\error_msg.cc:27: The tree method `gpu_hist` is deprecated since 2.0.0. To use GPU training, set the `device` parameter to CUDA instead.\n",
      "\n",
      "    E.g. tree_method = \"hist\", device = \"cuda\"\n",
      "\n",
      "  bst.update(dtrain, iteration=i, fobj=obj)\n",
      "c:\\Users\\Griga\\AppData\\Local\\Programs\\Python\\Python313\\Lib\\site-packages\\xgboost\\training.py:183: UserWarning: [22:51:49] WARNING: C:\\actions-runner\\_work\\xgboost\\xgboost\\src\\learner.cc:738: \n",
      "Parameters: { \"predictor\" } are not used.\n",
      "\n",
      "  bst.update(dtrain, iteration=i, fobj=obj)\n",
      "c:\\Users\\Griga\\AppData\\Local\\Programs\\Python\\Python313\\Lib\\site-packages\\xgboost\\sklearn.py:1430: UserWarning: [22:51:59] WARNING: C:\\actions-runner\\_work\\xgboost\\xgboost\\src\\common\\error_msg.cc:27: The tree method `gpu_hist` is deprecated since 2.0.0. To use GPU training, set the `device` parameter to CUDA instead.\n",
      "\n",
      "    E.g. tree_method = \"hist\", device = \"cuda\"\n",
      "\n",
      "  return booster.num_features()\n",
      "c:\\Users\\Griga\\AppData\\Local\\Programs\\Python\\Python313\\Lib\\site-packages\\xgboost\\core.py:2676: UserWarning: [22:51:59] WARNING: C:\\actions-runner\\_work\\xgboost\\xgboost\\src\\common\\error_msg.cc:27: The tree method `gpu_hist` is deprecated since 2.0.0. To use GPU training, set the `device` parameter to CUDA instead.\n",
      "\n",
      "    E.g. tree_method = \"hist\", device = \"cuda\"\n",
      "\n",
      "  if len(data.shape) != 1 and self.num_features() != data.shape[1]:\n"
     ]
    },
    {
     "name": "stdout",
     "output_type": "stream",
     "text": [
      "Fold 5: Accuracy = 0.804, F1 = 0.667\n",
      "Fold 5: AUC_h1n1 = 0.860, AUC_seasonal = 0.837, Mean AUC = 0.848\n",
      "\n",
      "Overall Mean AUC: 0.857 ± 0.004\n"
     ]
    }
   ],
   "source": [
    "X.columns = (\n",
    "    X.columns.astype(str)\n",
    "    .str.replace('[', '(', regex=False)\n",
    "    .str.replace(']', ')', regex=False)\n",
    "    .str.replace('<', 'lt', regex=False)\n",
    "    .str.replace('>', 'gt', regex=False)\n",
    ")\n",
    "\n",
    "kf = KFold(n_splits=5, shuffle=True, random_state=42)\n",
    "accuracy_scores, f1_scores = [], []\n",
    "\n",
    "auc_scores = []\n",
    "\n",
    "for fold, (train_idx, test_idx) in enumerate(kf.split(X), 1):\n",
    "    X_train, X_test = X.iloc[train_idx], X.iloc[test_idx]\n",
    "    Y_train, Y_test = Y.iloc[train_idx], Y.iloc[test_idx]\n",
    "\n",
    "    model = MultiOutputClassifier(\n",
    "        XGBClassifier(\n",
    "            n_estimators=500,\n",
    "            max_depth=3,\n",
    "            learning_rate=0.05,\n",
    "            subsample=0.7,\n",
    "            colsample_bytree=0.7,\n",
    "            gamma=3,\n",
    "            min_child_weight=1,\n",
    "            random_state=42,\n",
    "            eval_metric='logloss',\n",
    "            tree_method='gpu_hist',\n",
    "            predictor='gpu_predictor'\n",
    "        )\n",
    "    )\n",
    "    model.fit(X_train, Y_train)\n",
    "\n",
    "    Y_pred = model.predict(X_test)\n",
    "    \n",
    "    accuracy = np.mean([\n",
    "        accuracy_score(Y_test.iloc[:, i], Y_pred[:, i]) for i in range(Y.shape[1])\n",
    "    ])\n",
    "    f1 = f1_score(Y_test, Y_pred, average='macro')\n",
    "\n",
    "    accuracy_scores.append(accuracy)\n",
    "    f1_scores.append(f1)\n",
    "\n",
    "    print(f\"Fold {fold}: Accuracy = {accuracy:.3f}, F1 = {f1:.3f}\")\n",
    "\n",
    "    Y_pred_proba = np.column_stack([\n",
    "        est.predict_proba(X_test)[:, 1] for est in model.estimators_\n",
    "    ])\n",
    "\n",
    "    auc_h1n1 = roc_auc_score(Y_test.iloc[:, 0], Y_pred_proba[:, 0])\n",
    "    auc_seasonal = roc_auc_score(Y_test.iloc[:, 1], Y_pred_proba[:, 1])\n",
    "    auc_mean = np.mean([auc_h1n1, auc_seasonal])\n",
    "\n",
    "    auc_scores.append(auc_mean)\n",
    "\n",
    "    print(f\"Fold {fold}: AUC_h1n1 = {auc_h1n1:.3f}, AUC_seasonal = {auc_seasonal:.3f}, Mean AUC = {auc_mean:.3f}\")\n",
    "\n",
    "print(f\"\\nOverall Mean AUC: {np.mean(auc_scores):.3f} ± {np.std(auc_scores):.3f}\")\n"
   ]
  },
  {
   "cell_type": "code",
   "execution_count": 37,
   "id": "790ca6fc",
   "metadata": {},
   "outputs": [
    {
     "name": "stdout",
     "output_type": "stream",
     "text": [
      "\n",
      "Overall Accuracy: 0.814 ± 0.005\n",
      "Overall F1-macro: 0.676 ± 0.006\n"
     ]
    }
   ],
   "source": [
    "print(f\"\\nOverall Accuracy: {np.mean(accuracy_scores):.3f} ± {np.std(accuracy_scores):.3f}\")\n",
    "print(f\"Overall F1-macro: {np.mean(f1_scores):.3f} ± {np.std(f1_scores):.3f}\")"
   ]
  },
  {
   "cell_type": "code",
   "execution_count": null,
   "id": "02598614",
   "metadata": {},
   "outputs": [
    {
     "data": {
      "image/png": "[encoded data removed]",
      "text/plain": [
       "<Figure size 1200x500 with 2 Axes>"
      ]
     },
     "metadata": {},
     "output_type": "display_data"
    }
   ],
   "source": [
    "# === ROC curves ===\n",
    "fig, ax = plt.subplots(1, 2, figsize=(12, 5))\n",
    "\n",
    "for i, target in enumerate(['h1n1_vaccine', 'seasonal_vaccine']):\n",
    "    y_true = Y_test.iloc[:, i]\n",
    "    y_pred = Y_pred_proba[:, i]\n",
    "\n",
    "    fpr, tpr, _ = roc_curve(y_true, y_pred)\n",
    "    roc_auc = auc(fpr, tpr)\n",
    "\n",
    "    ax[i].plot(fpr, tpr, color='darkorange', lw=2,\n",
    "               label=f'ROC curve (AUC = {roc_auc:.3f})')\n",
    "    ax[i].plot([0, 1], [0, 1], color='navy', lw=1, linestyle='--')\n",
    "    ax[i].set_xlim([0.0, 1.0])\n",
    "    ax[i].set_ylim([0.0, 1.05])\n",
    "    ax[i].set_xlabel('False Positive Rate')\n",
    "    ax[i].set_ylabel('True Positive Rate')\n",
    "    ax[i].set_title(f'ROC Curve: {target}')\n",
    "    ax[i].legend(loc=\"lower right\")\n",
    "\n",
    "plt.tight_layout()\n",
    "plt.show()\n"
   ]
  },
  {
   "cell_type": "markdown",
   "id": "ea9183d8",
   "metadata": {},
   "source": [
    "Now only for h1n1"
   ]
  },
  {
   "cell_type": "code",
   "execution_count": 65,
   "id": "b5edd79e",
   "metadata": {},
   "outputs": [],
   "source": [
    "\"\"\"For h1n1_vaccine\"\"\"\n",
    "Y = df_merged_clean_3['h1n1_vaccine']\n",
    "X = df_merged_clean_3.drop(['seasonal_vaccine', 'h1n1_vaccine'], axis=1)\n"
   ]
  },
  {
   "cell_type": "code",
   "execution_count": null,
   "id": "9e75cf2f",
   "metadata": {},
   "outputs": [
    {
     "name": "stderr",
     "output_type": "stream",
     "text": [
      "c:\\Users\\Griga\\AppData\\Local\\Programs\\Python\\Python313\\Lib\\site-packages\\xgboost\\training.py:183: UserWarning: [02:36:16] WARNING: C:\\actions-runner\\_work\\xgboost\\xgboost\\src\\learner.cc:738: \n",
      "Parameters: { \"use_label_encoder\" } are not used.\n",
      "\n",
      "  bst.update(dtrain, iteration=i, fobj=obj)\n"
     ]
    },
    {
     "name": "stdout",
     "output_type": "stream",
     "text": [
      "Fold 1: Accuracy = 0.835, F1 = 0.580\n",
      "Fold 2: Accuracy = 0.824, F1 = 0.569\n"
     ]
    },
    {
     "name": "stderr",
     "output_type": "stream",
     "text": [
      "c:\\Users\\Griga\\AppData\\Local\\Programs\\Python\\Python313\\Lib\\site-packages\\xgboost\\training.py:183: UserWarning: [02:36:16] WARNING: C:\\actions-runner\\_work\\xgboost\\xgboost\\src\\learner.cc:738: \n",
      "Parameters: { \"use_label_encoder\" } are not used.\n",
      "\n",
      "  bst.update(dtrain, iteration=i, fobj=obj)\n",
      "c:\\Users\\Griga\\AppData\\Local\\Programs\\Python\\Python313\\Lib\\site-packages\\xgboost\\training.py:183: UserWarning: [02:36:17] WARNING: C:\\actions-runner\\_work\\xgboost\\xgboost\\src\\learner.cc:738: \n",
      "Parameters: { \"use_label_encoder\" } are not used.\n",
      "\n",
      "  bst.update(dtrain, iteration=i, fobj=obj)\n"
     ]
    },
    {
     "name": "stdout",
     "output_type": "stream",
     "text": [
      "Fold 3: Accuracy = 0.827, F1 = 0.543\n"
     ]
    },
    {
     "name": "stderr",
     "output_type": "stream",
     "text": [
      "c:\\Users\\Griga\\AppData\\Local\\Programs\\Python\\Python313\\Lib\\site-packages\\xgboost\\training.py:183: UserWarning: [02:36:17] WARNING: C:\\actions-runner\\_work\\xgboost\\xgboost\\src\\learner.cc:738: \n",
      "Parameters: { \"use_label_encoder\" } are not used.\n",
      "\n",
      "  bst.update(dtrain, iteration=i, fobj=obj)\n"
     ]
    },
    {
     "name": "stdout",
     "output_type": "stream",
     "text": [
      "Fold 4: Accuracy = 0.830, F1 = 0.571\n",
      "Fold 5: Accuracy = 0.823, F1 = 0.564\n",
      "\n",
      "Overall Accuracy: 0.828 ± 0.005\n",
      "Overall F1: 0.566 ± 0.012\n"
     ]
    },
    {
     "name": "stderr",
     "output_type": "stream",
     "text": [
      "c:\\Users\\Griga\\AppData\\Local\\Programs\\Python\\Python313\\Lib\\site-packages\\xgboost\\training.py:183: UserWarning: [02:36:17] WARNING: C:\\actions-runner\\_work\\xgboost\\xgboost\\src\\learner.cc:738: \n",
      "Parameters: { \"use_label_encoder\" } are not used.\n",
      "\n",
      "  bst.update(dtrain, iteration=i, fobj=obj)\n"
     ]
    }
   ],
   "source": [
    "X.columns = (\n",
    "    X.columns.astype(str)\n",
    "    .str.replace('[', '(', regex=False)\n",
    "    .str.replace(']', ')', regex=False)\n",
    "    .str.replace('<', 'lt', regex=False)\n",
    "    .str.replace('>', 'gt', regex=False)\n",
    ")\n",
    "\n",
    "kf = KFold(n_splits=5, shuffle=True, random_state=42)\n",
    "accuracy_scores, f1_scores = [], []\n",
    "\n",
    "for fold, (train_idx, test_idx) in enumerate(kf.split(X), 1):\n",
    "    X_train, X_test = X.iloc[train_idx], X.iloc[test_idx]\n",
    "    Y_train, Y_test = Y.iloc[train_idx], Y.iloc[test_idx]\n",
    "\n",
    "    model = XGBClassifier(\n",
    "        random_state=42,\n",
    "        n_estimators=100,\n",
    "        eval_metric='logloss',\n",
    "        use_label_encoder=False \n",
    "    )\n",
    "    model.fit(X_train, Y_train)\n",
    "\n",
    "    Y_pred = model.predict(X_test)\n",
    "    \n",
    "    accuracy = accuracy_score(Y_test, Y_pred)\n",
    "    f1 = f1_score(Y_test, Y_pred)\n",
    "\n",
    "    accuracy_scores.append(accuracy)\n",
    "    f1_scores.append(f1)\n",
    "\n",
    "    print(f\"Fold {fold}: Accuracy = {accuracy:.3f}, F1 = {f1:.3f}\")\n",
    "\n",
    "print(f\"\\nOverall Accuracy: {np.mean(accuracy_scores):.3f} ± {np.std(accuracy_scores):.3f}\")\n",
    "print(f\"Overall F1: {np.mean(f1_scores):.3f} ± {np.std(f1_scores):.3f}\")"
   ]
  },
  {
   "cell_type": "code",
   "execution_count": null,
   "id": "8e408fbc",
   "metadata": {},
   "outputs": [
    {
     "name": "stdout",
     "output_type": "stream",
     "text": [
      "Fitting 3 folds for each of 16 candidates, totalling 48 fits\n",
      "Best param:  {'learning_rate': 0.05, 'max_depth': 5, 'n_estimators': 50}\n",
      "Best AUC: 0.8404665656777063\n"
     ]
    },
    {
     "name": "stderr",
     "output_type": "stream",
     "text": [
      "c:\\Users\\Griga\\AppData\\Local\\Programs\\Python\\Python313\\Lib\\site-packages\\xgboost\\training.py:183: UserWarning: [02:37:13] WARNING: C:\\actions-runner\\_work\\xgboost\\xgboost\\src\\learner.cc:738: \n",
      "Parameters: { \"use_label_encoder\" } are not used.\n",
      "\n",
      "  bst.update(dtrain, iteration=i, fobj=obj)\n"
     ]
    }
   ],
   "source": [
    "xgb = XGBClassifier(\n",
    "    tree_method='hist',\n",
    "    device='cuda',          \n",
    "    random_state=42,\n",
    "    eval_metric='logloss',\n",
    "    use_label_encoder=False,\n",
    ")\n",
    "\n",
    "param_grid = {\n",
    "    'n_estimators': [20, 30, 40, 50],\n",
    "    'learning_rate': [0.03, 0.05],\n",
    "    'max_depth': [3, 5],\n",
    "}\n",
    "\n",
    "\n",
    "\n",
    "grid = GridSearchCV(\n",
    "    estimator=xgb,\n",
    "    param_grid=param_grid,\n",
    "    scoring='roc_auc',\n",
    "    cv=3,\n",
    "    verbose=4,\n",
    "    n_jobs=-1,\n",
    ")\n",
    "\n",
    "grid.fit(X, Y)\n",
    "\n",
    "print(\"Best param: \", grid.best_params_)\n",
    "print(\"Best AUC:\", grid.best_score_)\n"
   ]
  },
  {
   "cell_type": "code",
   "execution_count": null,
   "id": "ea441098",
   "metadata": {},
   "outputs": [
    {
     "name": "stderr",
     "output_type": "stream",
     "text": [
      "c:\\Users\\Griga\\AppData\\Local\\Programs\\Python\\Python313\\Lib\\site-packages\\xgboost\\training.py:183: UserWarning: [02:41:26] WARNING: C:\\actions-runner\\_work\\xgboost\\xgboost\\src\\learner.cc:738: \n",
      "Parameters: { \"use_label_encoder\" } are not used.\n",
      "\n",
      "  bst.update(dtrain, iteration=i, fobj=obj)\n"
     ]
    },
    {
     "name": "stdout",
     "output_type": "stream",
     "text": [
      "Fold 1: Accuracy = 0.825, F1 = 0.524, AUC = 0.843\n"
     ]
    },
    {
     "name": "stderr",
     "output_type": "stream",
     "text": [
      "c:\\Users\\Griga\\AppData\\Local\\Programs\\Python\\Python313\\Lib\\site-packages\\xgboost\\training.py:183: UserWarning: [02:41:27] WARNING: C:\\actions-runner\\_work\\xgboost\\xgboost\\src\\learner.cc:738: \n",
      "Parameters: { \"use_label_encoder\" } are not used.\n",
      "\n",
      "  bst.update(dtrain, iteration=i, fobj=obj)\n"
     ]
    },
    {
     "name": "stdout",
     "output_type": "stream",
     "text": [
      "Fold 2: Accuracy = 0.825, F1 = 0.528, AUC = 0.827\n"
     ]
    },
    {
     "name": "stderr",
     "output_type": "stream",
     "text": [
      "c:\\Users\\Griga\\AppData\\Local\\Programs\\Python\\Python313\\Lib\\site-packages\\xgboost\\training.py:183: UserWarning: [02:41:27] WARNING: C:\\actions-runner\\_work\\xgboost\\xgboost\\src\\learner.cc:738: \n",
      "Parameters: { \"use_label_encoder\" } are not used.\n",
      "\n",
      "  bst.update(dtrain, iteration=i, fobj=obj)\n"
     ]
    },
    {
     "name": "stdout",
     "output_type": "stream",
     "text": [
      "Fold 3: Accuracy = 0.825, F1 = 0.518, AUC = 0.840\n"
     ]
    },
    {
     "name": "stderr",
     "output_type": "stream",
     "text": [
      "c:\\Users\\Griga\\AppData\\Local\\Programs\\Python\\Python313\\Lib\\site-packages\\xgboost\\training.py:183: UserWarning: [02:41:27] WARNING: C:\\actions-runner\\_work\\xgboost\\xgboost\\src\\learner.cc:738: \n",
      "Parameters: { \"use_label_encoder\" } are not used.\n",
      "\n",
      "  bst.update(dtrain, iteration=i, fobj=obj)\n"
     ]
    },
    {
     "name": "stdout",
     "output_type": "stream",
     "text": [
      "Fold 4: Accuracy = 0.838, F1 = 0.544, AUC = 0.844\n"
     ]
    },
    {
     "name": "stderr",
     "output_type": "stream",
     "text": [
      "c:\\Users\\Griga\\AppData\\Local\\Programs\\Python\\Python313\\Lib\\site-packages\\xgboost\\training.py:183: UserWarning: [02:41:28] WARNING: C:\\actions-runner\\_work\\xgboost\\xgboost\\src\\learner.cc:738: \n",
      "Parameters: { \"use_label_encoder\" } are not used.\n",
      "\n",
      "  bst.update(dtrain, iteration=i, fobj=obj)\n"
     ]
    },
    {
     "name": "stdout",
     "output_type": "stream",
     "text": [
      "Fold 5: Accuracy = 0.835, F1 = 0.553, AUC = 0.853\n",
      "\n",
      "Overall Accuracy: 0.830 ± 0.006\n",
      "Overall F1: 0.533 ± 0.013\n",
      "Overall AUC: 0.842 ± 0.008\n"
     ]
    }
   ],
   "source": [
    "target = 'h1n1_vaccine'\n",
    "kf = StratifiedKFold(n_splits=5, shuffle=True, random_state=42)\n",
    "\n",
    "accuracy_scores, f1_scores, auc_scores = [], [], []\n",
    "\n",
    "for fold, (train_idx, test_idx) in enumerate(kf.split(X, Y), 1):\n",
    "    X_train, X_test = X.iloc[train_idx], X.iloc[test_idx]\n",
    "    Y_train, Y_test = Y.iloc[train_idx], Y.iloc[test_idx]\n",
    "\n",
    "    model = XGBClassifier(\n",
    "        n_estimators=50,\n",
    "        max_depth=5,\n",
    "        learning_rate=0.05,\n",
    "        random_state=42,\n",
    "        eval_metric='logloss',\n",
    "        tree_method='hist',\n",
    "        device='cuda',\n",
    "        use_label_encoder=False\n",
    "    )\n",
    "\n",
    "    model.fit(\n",
    "        X_train, Y_train,\n",
    "        eval_set=[(X_test, Y_test)],\n",
    "        verbose=False\n",
    "    )\n",
    "\n",
    "    Y_pred = model.predict(X_test)\n",
    "    Y_pred_proba = model.predict_proba(X_test)[:, 1]\n",
    "\n",
    "    accuracy = accuracy_score(Y_test, Y_pred)\n",
    "    f1 = f1_score(Y_test, Y_pred)\n",
    "    auc = roc_auc_score(Y_test, Y_pred_proba)\n",
    "\n",
    "    accuracy_scores.append(accuracy)\n",
    "    f1_scores.append(f1)\n",
    "    auc_scores.append(auc)\n",
    "\n",
    "    print(f\"Fold {fold}: Accuracy = {accuracy:.3f}, F1 = {f1:.3f}, AUC = {auc:.3f}\")\n",
    "\n",
    "print(f\"\\nOverall Accuracy: {np.mean(accuracy_scores):.3f} ± {np.std(accuracy_scores):.3f}\")\n",
    "print(f\"Overall F1: {np.mean(f1_scores):.3f} ± {np.std(f1_scores):.3f}\")\n",
    "print(f\"Overall AUC: {np.mean(auc_scores):.3f} ± {np.std(auc_scores):.3f}\")\n"
   ]
  },
  {
   "cell_type": "code",
   "execution_count": null,
   "id": "b6ec44a9",
   "metadata": {},
   "outputs": [
    {
     "name": "stderr",
     "output_type": "stream",
     "text": [
      "c:\\Users\\Griga\\AppData\\Local\\Programs\\Python\\Python313\\Lib\\site-packages\\xgboost\\training.py:183: UserWarning: [02:41:58] WARNING: C:\\actions-runner\\_work\\xgboost\\xgboost\\src\\learner.cc:738: \n",
      "Parameters: { \"use_label_encoder\" } are not used.\n",
      "\n",
      "  bst.update(dtrain, iteration=i, fobj=obj)\n"
     ]
    },
    {
     "data": {
      "image/png": "[encoded data removed]",
      "text/plain": [
       "<Figure size 600x600 with 1 Axes>"
      ]
     },
     "metadata": {},
     "output_type": "display_data"
    }
   ],
   "source": [
    "model.fit(X_train, Y_train)\n",
    "Y_pred_proba = model.predict_proba(X_test)[:, 1]\n",
    "\n",
    "fpr, tpr, thresholds = roc_curve(Y_test, Y_pred_proba)\n",
    "roc_auc = auc(fpr, tpr)\n",
    "\n",
    "plt.figure(figsize=(6, 6))\n",
    "plt.plot(fpr, tpr, color=\"darkorange\", lw=2, label=f\"ROC curve (AUC = {roc_auc:.3f})\")\n",
    "plt.plot([0, 1], [0, 1], color=\"navy\", lw=2, linestyle=\"--\")\n",
    "plt.xlim([0.0, 1.0])\n",
    "plt.ylim([0.0, 1.05])\n",
    "plt.xlabel(\"False Positive Rate\")\n",
    "plt.ylabel(\"True Positive Rate\")\n",
    "plt.title(\"ROC Curve — h1n1_vaccine\")\n",
    "plt.legend(loc=\"lower right\")\n",
    "plt.grid(True)\n",
    "plt.show()\n"
   ]
  },
  {
   "cell_type": "markdown",
   "id": "6418e5c3",
   "metadata": {},
   "source": [
    "Now for seasonal vaccine"
   ]
  },
  {
   "cell_type": "code",
   "execution_count": 68,
   "id": "ced549ec",
   "metadata": {},
   "outputs": [],
   "source": [
    "\"\"\"For h1n1_vaccine\"\"\"\n",
    "Y = df_merged_clean_3['seasonal_vaccine']\n",
    "X = df_merged_clean_3.drop(['seasonal_vaccine', 'h1n1_vaccine'], axis=1)\n"
   ]
  },
  {
   "cell_type": "code",
   "execution_count": null,
   "id": "2eb1d7ba",
   "metadata": {},
   "outputs": [
    {
     "name": "stderr",
     "output_type": "stream",
     "text": [
      "c:\\Users\\Griga\\AppData\\Local\\Programs\\Python\\Python313\\Lib\\site-packages\\xgboost\\training.py:183: UserWarning: [02:44:49] WARNING: C:\\actions-runner\\_work\\xgboost\\xgboost\\src\\learner.cc:738: \n",
      "Parameters: { \"use_label_encoder\" } are not used.\n",
      "\n",
      "  bst.update(dtrain, iteration=i, fobj=obj)\n"
     ]
    },
    {
     "name": "stdout",
     "output_type": "stream",
     "text": [
      "Fold 1: Accuracy = 0.784, F1 = 0.771\n"
     ]
    },
    {
     "name": "stderr",
     "output_type": "stream",
     "text": [
      "c:\\Users\\Griga\\AppData\\Local\\Programs\\Python\\Python313\\Lib\\site-packages\\xgboost\\training.py:183: UserWarning: [02:44:49] WARNING: C:\\actions-runner\\_work\\xgboost\\xgboost\\src\\learner.cc:738: \n",
      "Parameters: { \"use_label_encoder\" } are not used.\n",
      "\n",
      "  bst.update(dtrain, iteration=i, fobj=obj)\n"
     ]
    },
    {
     "name": "stdout",
     "output_type": "stream",
     "text": [
      "Fold 2: Accuracy = 0.786, F1 = 0.775\n"
     ]
    },
    {
     "name": "stderr",
     "output_type": "stream",
     "text": [
      "c:\\Users\\Griga\\AppData\\Local\\Programs\\Python\\Python313\\Lib\\site-packages\\xgboost\\training.py:183: UserWarning: [02:44:50] WARNING: C:\\actions-runner\\_work\\xgboost\\xgboost\\src\\learner.cc:738: \n",
      "Parameters: { \"use_label_encoder\" } are not used.\n",
      "\n",
      "  bst.update(dtrain, iteration=i, fobj=obj)\n"
     ]
    },
    {
     "name": "stdout",
     "output_type": "stream",
     "text": [
      "Fold 3: Accuracy = 0.789, F1 = 0.775\n"
     ]
    },
    {
     "name": "stderr",
     "output_type": "stream",
     "text": [
      "c:\\Users\\Griga\\AppData\\Local\\Programs\\Python\\Python313\\Lib\\site-packages\\xgboost\\training.py:183: UserWarning: [02:44:50] WARNING: C:\\actions-runner\\_work\\xgboost\\xgboost\\src\\learner.cc:738: \n",
      "Parameters: { \"use_label_encoder\" } are not used.\n",
      "\n",
      "  bst.update(dtrain, iteration=i, fobj=obj)\n"
     ]
    },
    {
     "name": "stdout",
     "output_type": "stream",
     "text": [
      "Fold 4: Accuracy = 0.780, F1 = 0.769\n",
      "Fold 5: Accuracy = 0.773, F1 = 0.762\n",
      "\n",
      "Overall Accuracy: 0.782 ± 0.005\n",
      "Overall F1: 0.770 ± 0.005\n"
     ]
    },
    {
     "name": "stderr",
     "output_type": "stream",
     "text": [
      "c:\\Users\\Griga\\AppData\\Local\\Programs\\Python\\Python313\\Lib\\site-packages\\xgboost\\training.py:183: UserWarning: [02:44:50] WARNING: C:\\actions-runner\\_work\\xgboost\\xgboost\\src\\learner.cc:738: \n",
      "Parameters: { \"use_label_encoder\" } are not used.\n",
      "\n",
      "  bst.update(dtrain, iteration=i, fobj=obj)\n"
     ]
    }
   ],
   "source": [
    "X.columns = (\n",
    "    X.columns.astype(str)\n",
    "    .str.replace('[', '(', regex=False)\n",
    "    .str.replace(']', ')', regex=False)\n",
    "    .str.replace('<', 'lt', regex=False)\n",
    "    .str.replace('>', 'gt', regex=False)\n",
    ")\n",
    "\n",
    "kf = KFold(n_splits=5, shuffle=True, random_state=42)\n",
    "accuracy_scores, f1_scores = [], []\n",
    "\n",
    "for fold, (train_idx, test_idx) in enumerate(kf.split(X), 1):\n",
    "    X_train, X_test = X.iloc[train_idx], X.iloc[test_idx]\n",
    "    Y_train, Y_test = Y.iloc[train_idx], Y.iloc[test_idx]\n",
    "\n",
    "    model = XGBClassifier(\n",
    "        random_state=42,\n",
    "        n_estimators=100,\n",
    "        eval_metric='logloss',\n",
    "        use_label_encoder=False \n",
    "    )\n",
    "    model.fit(X_train, Y_train)\n",
    "\n",
    "    Y_pred = model.predict(X_test)\n",
    "    \n",
    "    accuracy = accuracy_score(Y_test, Y_pred)\n",
    "    f1 = f1_score(Y_test, Y_pred)\n",
    "\n",
    "    accuracy_scores.append(accuracy)\n",
    "    f1_scores.append(f1)\n",
    "\n",
    "    print(f\"Fold {fold}: Accuracy = {accuracy:.3f}, F1 = {f1:.3f}\")\n",
    "\n",
    "print(f\"\\nOverall Accuracy: {np.mean(accuracy_scores):.3f} ± {np.std(accuracy_scores):.3f}\")\n",
    "print(f\"Overall F1: {np.mean(f1_scores):.3f} ± {np.std(f1_scores):.3f}\")"
   ]
  },
  {
   "cell_type": "code",
   "execution_count": null,
   "id": "e4499df3",
   "metadata": {},
   "outputs": [
    {
     "name": "stdout",
     "output_type": "stream",
     "text": [
      "Fitting 3 folds for each of 16 candidates, totalling 48 fits\n",
      "Best param:  {'learning_rate': 0.05, 'max_depth': 5, 'n_estimators': 50}\n",
      "Best AUC: 0.8582169033097081\n"
     ]
    },
    {
     "name": "stderr",
     "output_type": "stream",
     "text": [
      "c:\\Users\\Griga\\AppData\\Local\\Programs\\Python\\Python313\\Lib\\site-packages\\xgboost\\training.py:183: UserWarning: [02:45:21] WARNING: C:\\actions-runner\\_work\\xgboost\\xgboost\\src\\learner.cc:738: \n",
      "Parameters: { \"use_label_encoder\" } are not used.\n",
      "\n",
      "  bst.update(dtrain, iteration=i, fobj=obj)\n"
     ]
    }
   ],
   "source": [
    "xgb = XGBClassifier(\n",
    "    tree_method='hist',\n",
    "    device='cuda',          \n",
    "    random_state=42,\n",
    "    eval_metric='logloss',\n",
    "    use_label_encoder=False,\n",
    ")\n",
    "\n",
    "param_grid = {\n",
    "    'n_estimators': [20, 30, 40, 50],\n",
    "    'learning_rate': [0.03, 0.05],\n",
    "    'max_depth': [3, 5],\n",
    "}\n",
    "\n",
    "\n",
    "\n",
    "grid = GridSearchCV(\n",
    "    estimator=xgb,\n",
    "    param_grid=param_grid,\n",
    "    scoring='roc_auc',\n",
    "    cv=3,\n",
    "    verbose=4,\n",
    "    n_jobs=-1,\n",
    ")\n",
    "\n",
    "grid.fit(X, Y)\n",
    "\n",
    "print(\"Best param: \", grid.best_params_)\n",
    "print(\"Best AUC:\", grid.best_score_)\n"
   ]
  },
  {
   "cell_type": "code",
   "execution_count": null,
   "id": "788c79eb",
   "metadata": {},
   "outputs": [
    {
     "name": "stderr",
     "output_type": "stream",
     "text": [
      "c:\\Users\\Griga\\AppData\\Local\\Programs\\Python\\Python313\\Lib\\site-packages\\xgboost\\training.py:183: UserWarning: [02:45:40] WARNING: C:\\actions-runner\\_work\\xgboost\\xgboost\\src\\learner.cc:738: \n",
      "Parameters: { \"use_label_encoder\" } are not used.\n",
      "\n",
      "  bst.update(dtrain, iteration=i, fobj=obj)\n"
     ]
    },
    {
     "name": "stdout",
     "output_type": "stream",
     "text": [
      "Fold 1: Accuracy = 0.777, F1 = 0.763, AUC = 0.858\n"
     ]
    },
    {
     "name": "stderr",
     "output_type": "stream",
     "text": [
      "c:\\Users\\Griga\\AppData\\Local\\Programs\\Python\\Python313\\Lib\\site-packages\\xgboost\\training.py:183: UserWarning: [02:45:40] WARNING: C:\\actions-runner\\_work\\xgboost\\xgboost\\src\\learner.cc:738: \n",
      "Parameters: { \"use_label_encoder\" } are not used.\n",
      "\n",
      "  bst.update(dtrain, iteration=i, fobj=obj)\n"
     ]
    },
    {
     "name": "stdout",
     "output_type": "stream",
     "text": [
      "Fold 2: Accuracy = 0.788, F1 = 0.773, AUC = 0.865\n"
     ]
    },
    {
     "name": "stderr",
     "output_type": "stream",
     "text": [
      "c:\\Users\\Griga\\AppData\\Local\\Programs\\Python\\Python313\\Lib\\site-packages\\xgboost\\training.py:183: UserWarning: [02:45:41] WARNING: C:\\actions-runner\\_work\\xgboost\\xgboost\\src\\learner.cc:738: \n",
      "Parameters: { \"use_label_encoder\" } are not used.\n",
      "\n",
      "  bst.update(dtrain, iteration=i, fobj=obj)\n"
     ]
    },
    {
     "name": "stdout",
     "output_type": "stream",
     "text": [
      "Fold 3: Accuracy = 0.777, F1 = 0.762, AUC = 0.850\n"
     ]
    },
    {
     "name": "stderr",
     "output_type": "stream",
     "text": [
      "c:\\Users\\Griga\\AppData\\Local\\Programs\\Python\\Python313\\Lib\\site-packages\\xgboost\\training.py:183: UserWarning: [02:45:41] WARNING: C:\\actions-runner\\_work\\xgboost\\xgboost\\src\\learner.cc:738: \n",
      "Parameters: { \"use_label_encoder\" } are not used.\n",
      "\n",
      "  bst.update(dtrain, iteration=i, fobj=obj)\n"
     ]
    },
    {
     "name": "stdout",
     "output_type": "stream",
     "text": [
      "Fold 4: Accuracy = 0.780, F1 = 0.762, AUC = 0.857\n"
     ]
    },
    {
     "name": "stderr",
     "output_type": "stream",
     "text": [
      "c:\\Users\\Griga\\AppData\\Local\\Programs\\Python\\Python313\\Lib\\site-packages\\xgboost\\training.py:183: UserWarning: [02:45:41] WARNING: C:\\actions-runner\\_work\\xgboost\\xgboost\\src\\learner.cc:738: \n",
      "Parameters: { \"use_label_encoder\" } are not used.\n",
      "\n",
      "  bst.update(dtrain, iteration=i, fobj=obj)\n"
     ]
    },
    {
     "name": "stdout",
     "output_type": "stream",
     "text": [
      "Fold 5: Accuracy = 0.787, F1 = 0.775, AUC = 0.861\n",
      "\n",
      "Overall Accuracy: 0.782 ± 0.005\n",
      "Overall F1: 0.767 ± 0.006\n",
      "Overall AUC: 0.858 ± 0.005\n"
     ]
    }
   ],
   "source": [
    "target = 'h1n1_vaccine'\n",
    "kf = StratifiedKFold(n_splits=5, shuffle=True, random_state=42)\n",
    "\n",
    "accuracy_scores, f1_scores, auc_scores = [], [], []\n",
    "\n",
    "for fold, (train_idx, test_idx) in enumerate(kf.split(X, Y), 1):\n",
    "    X_train, X_test = X.iloc[train_idx], X.iloc[test_idx]\n",
    "    Y_train, Y_test = Y.iloc[train_idx], Y.iloc[test_idx]\n",
    "\n",
    "    model = XGBClassifier(\n",
    "        n_estimators=50,\n",
    "        max_depth=5,\n",
    "        learning_rate=0.05,\n",
    "        random_state=42,\n",
    "        eval_metric='logloss',\n",
    "        tree_method='hist',\n",
    "        device='cuda',\n",
    "        use_label_encoder=False\n",
    "    )\n",
    "\n",
    "    model.fit(\n",
    "        X_train, Y_train,\n",
    "        eval_set=[(X_test, Y_test)],\n",
    "        verbose=False\n",
    "    )\n",
    "\n",
    "    Y_pred = model.predict(X_test)\n",
    "    Y_pred_proba = model.predict_proba(X_test)[:, 1]\n",
    "\n",
    "    accuracy = accuracy_score(Y_test, Y_pred)\n",
    "    f1 = f1_score(Y_test, Y_pred)\n",
    "    auc = roc_auc_score(Y_test, Y_pred_proba)\n",
    "\n",
    "    accuracy_scores.append(accuracy)\n",
    "    f1_scores.append(f1)\n",
    "    auc_scores.append(auc)\n",
    "\n",
    "    print(f\"Fold {fold}: Accuracy = {accuracy:.3f}, F1 = {f1:.3f}, AUC = {auc:.3f}\")\n",
    "\n",
    "print(f\"\\nOverall Accuracy: {np.mean(accuracy_scores):.3f} ± {np.std(accuracy_scores):.3f}\")\n",
    "print(f\"Overall F1: {np.mean(f1_scores):.3f} ± {np.std(f1_scores):.3f}\")\n",
    "print(f\"Overall AUC: {np.mean(auc_scores):.3f} ± {np.std(auc_scores):.3f}\")\n"
   ]
  },
  {
   "cell_type": "code",
   "execution_count": null,
   "id": "c2f5bfd4",
   "metadata": {},
   "outputs": [
    {
     "name": "stderr",
     "output_type": "stream",
     "text": [
      "c:\\Users\\Griga\\AppData\\Local\\Programs\\Python\\Python313\\Lib\\site-packages\\xgboost\\training.py:183: UserWarning: [02:45:59] WARNING: C:\\actions-runner\\_work\\xgboost\\xgboost\\src\\learner.cc:738: \n",
      "Parameters: { \"use_label_encoder\" } are not used.\n",
      "\n",
      "  bst.update(dtrain, iteration=i, fobj=obj)\n"
     ]
    },
    {
     "data": {
      "image/png": "[encoded data removed]",
      "text/plain": [
       "<Figure size 600x600 with 1 Axes>"
      ]
     },
     "metadata": {},
     "output_type": "display_data"
    }
   ],
   "source": [
    "model.fit(X_train, Y_train)\n",
    "Y_pred_proba = model.predict_proba(X_test)[:, 1]\n",
    "\n",
    "fpr, tpr, thresholds = roc_curve(Y_test, Y_pred_proba)\n",
    "roc_auc = auc(fpr, tpr)\n",
    "\n",
    "plt.figure(figsize=(6, 6))\n",
    "plt.plot(fpr, tpr, color=\"darkorange\", lw=2, label=f\"ROC curve (AUC = {roc_auc:.3f})\")\n",
    "plt.plot([0, 1], [0, 1], color=\"navy\", lw=2, linestyle=\"--\")\n",
    "plt.xlim([0.0, 1.0])\n",
    "plt.ylim([0.0, 1.05])\n",
    "plt.xlabel(\"False Positive Rate\")\n",
    "plt.ylabel(\"True Positive Rate\")\n",
    "plt.title(\"ROC Curve — h1n1_vaccine\")\n",
    "plt.legend(loc=\"lower right\")\n",
    "plt.grid(True)\n",
    "plt.show()\n"
   ]
  }
 ],
 "metadata": {
  "kernelspec": {
   "display_name": "Python 3",
   "language": "python",
   "name": "python3"
  },
  "language_info": {
   "codemirror_mode": {
    "name": "ipython",
    "version": 3
   },
   "file_extension": ".py",
   "mimetype": "text/x-python",
   "name": "python",
   "nbconvert_exporter": "python",
   "pygments_lexer": "ipython3",
   "version": "3.13.3"
  }
 },
 "nbformat": 4,
 "nbformat_minor": 5
}
